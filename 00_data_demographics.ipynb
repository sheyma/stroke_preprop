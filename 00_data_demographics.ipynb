{
 "cells": [
  {
   "cell_type": "code",
   "execution_count": 38,
   "metadata": {},
   "outputs": [],
   "source": [
    "import os, sys, csv\n",
    "import numpy as np\n",
    "import matplotlib.pyplot as plt\n",
    "import seaborn as sns\n",
    "import pandas as pd\n",
    "from scipy import stats\n",
    "import nibabel as nb\n",
    "from scipy.stats import pearsonr, spearmanr\n",
    "import warnings\n",
    "warnings.filterwarnings('ignore')\n",
    "%matplotlib inline\n"
   ]
  },
  {
   "cell_type": "markdown",
   "metadata": {},
   "source": [
    "# get scan params"
   ]
  },
  {
   "cell_type": "code",
   "execution_count": 2,
   "metadata": {},
   "outputs": [
    {
     "name": "stdout",
     "output_type": "stream",
     "text": [
      "<class 'nibabel.nifti1.Nifti1Header'> object, endian='<'\n",
      "sizeof_hdr      : 348\n",
      "data_type       : \n",
      "db_name         : \n",
      "extents         : 0\n",
      "session_error   : 0\n",
      "regular         : \n",
      "dim_info        : 27\n",
      "dim             : [  3 192 256 256   1   1   1   1]\n",
      "intent_p1       : 0.0\n",
      "intent_p2       : 0.0\n",
      "intent_p3       : 0.0\n",
      "intent_code     : none\n",
      "datatype        : int16\n",
      "bitpix          : 16\n",
      "slice_start     : 0\n",
      "pixdim          : [-1.0e+00  1.0e+00  1.0e+00  1.0e+00  1.9e+03  1.0e+00  1.0e+00  1.0e+00]\n",
      "vox_offset      : 0.0\n",
      "scl_slope       : nan\n",
      "scl_inter       : nan\n",
      "slice_end       : 0\n",
      "slice_code      : unknown\n",
      "xyzt_units      : 18\n",
      "cal_max         : 0.0\n",
      "cal_min         : 0.0\n",
      "slice_duration  : 0.0\n",
      "toffset         : 0.0\n",
      "glmax           : 0\n",
      "glmin           : 0\n",
      "descrip         : \n",
      "aux_file        : \n",
      "qform_code      : unknown\n",
      "sform_code      : aligned\n",
      "quatern_b       : -0.00509426\n",
      "quatern_c       : -0.99997383\n",
      "quatern_d       : -2.6166439e-05\n",
      "qoffset_x       : 94.50895\n",
      "qoffset_y       : -98.21346\n",
      "qoffset_z       : -172.42197\n",
      "srow_x          : [-9.9989527e-01  1.0188522e-02  1.0280670e-02  9.4508949e+01]\n",
      "srow_y          : [ 1.0187984e-02  9.9994808e-01 -1.0470664e-04 -9.8213463e+01]\n",
      "srow_z          : [ 1.0281202e-02 -4.3624865e-08  9.9994713e-01 -1.7242197e+02]\n",
      "intent_name     : \n",
      "magic           : n+1\n"
     ]
    }
   ],
   "source": [
    "filename  = '/data/pt_mar006/subjects/sd02_d01/nifti/mprage/T1.nii.gz'\n",
    "T1_image = nb.load(filename)\n",
    "print T1_image.header"
   ]
  },
  {
   "cell_type": "markdown",
   "metadata": {},
   "source": [
    "# healthy controls "
   ]
  },
  {
   "cell_type": "code",
   "execution_count": 4,
   "metadata": {},
   "outputs": [
    {
     "name": "stdout",
     "output_type": "stream",
     "text": [
      "number of healthy subjects included:  28\n",
      "AGE mean, std:  65.21428571428571 8.837450373299365\n"
     ]
    }
   ],
   "source": [
    "# get sample correlation coefficient \n",
    "\n",
    "hc_filename = '/data/pt_mar006/documents/all_hc_datasummary.xlsx'\n",
    "\n",
    "dH = pd.read_excel(hc_filename,\n",
    "                   index_col = 'study_id')\n",
    "\n",
    "mean_hc = dH.age.mask(dH.inclusion != 'yes').mean()\n",
    "\n",
    "std_hc  = dH.age.mask(dH.inclusion !='yes').std()\n",
    "\n",
    "print \"number of healthy subjects included: \", len(dH[dH.inclusion == 'yes']['age'])\n",
    "\n",
    "print \"AGE mean, std: \", mean_hc, std_hc"
   ]
  },
  {
   "cell_type": "code",
   "execution_count": 6,
   "metadata": {},
   "outputs": [
    {
     "data": {
      "text/plain": [
       "28"
      ]
     },
     "execution_count": 6,
     "metadata": {},
     "output_type": "execute_result"
    }
   ],
   "source": [
    "list_name    = '/data/pt_mar006/documents/all_hc_after_qc.txt'\n",
    "with open(list_name) as f:\n",
    "    subject_healthy = f.read().splitlines()\n",
    "len(subject_healthy)"
   ]
  },
  {
   "cell_type": "code",
   "execution_count": 10,
   "metadata": {},
   "outputs": [
    {
     "data": {
      "text/plain": [
       "study_id\n",
       "hc01_d00    m\n",
       "hc02_d00    m\n",
       "hc03_d00    m\n",
       "hc04_d00    m\n",
       "hc05_d00    m\n",
       "hc06_d00    f\n",
       "hc07_d00    f\n",
       "hc08_d00    f\n",
       "hc10_d00    f\n",
       "hc11_d00    m\n",
       "hc12_d00    f\n",
       "hc13_d00    m\n",
       "hc14_d00    m\n",
       "hc15_d00    f\n",
       "hc17_d00    f\n",
       "hc19_d00    m\n",
       "hc20_d00    f\n",
       "hc21_d00    f\n",
       "hc22_d00    m\n",
       "hc23_d00    f\n",
       "hc24_d00    m\n",
       "hc25_d00    m\n",
       "hc27_d00    f\n",
       "hc28_d00    m\n",
       "hc30_d00    f\n",
       "hc31_d00    m\n",
       "hc32_d00    m\n",
       "hc33_d00    f\n",
       "Name: sex, dtype: object"
      ]
     },
     "execution_count": 10,
     "metadata": {},
     "output_type": "execute_result"
    }
   ],
   "source": [
    "dH.ix[subject_healthy].sex"
   ]
  },
  {
   "cell_type": "code",
   "execution_count": null,
   "metadata": {},
   "outputs": [],
   "source": []
  },
  {
   "cell_type": "markdown",
   "metadata": {},
   "source": [
    "# stroke patients "
   ]
  },
  {
   "cell_type": "code",
   "execution_count": 19,
   "metadata": {},
   "outputs": [
    {
     "data": {
      "text/plain": [
       "54"
      ]
     },
     "execution_count": 19,
     "metadata": {},
     "output_type": "execute_result"
    }
   ],
   "source": [
    "file_beh  = '/data/pt_mar006/documents/all_sd_datasummary_STEIGLITZ.xlsx'\n",
    "\n",
    "db = pd.read_excel(file_beh, \n",
    "                   index_col='study_id') \n",
    "\n",
    "len(db)\n"
   ]
  },
  {
   "cell_type": "code",
   "execution_count": 21,
   "metadata": {},
   "outputs": [
    {
     "data": {
      "text/plain": [
       "(63.77777777777778, 12.034018865819228)"
      ]
     },
     "execution_count": 21,
     "metadata": {},
     "output_type": "execute_result"
    }
   ],
   "source": [
    "db.age.mean(), db.age.std()"
   ]
  },
  {
   "cell_type": "markdown",
   "metadata": {},
   "source": [
    "# stroke patients with three consequtive resting-state and no history"
   ]
  },
  {
   "cell_type": "code",
   "execution_count": 16,
   "metadata": {},
   "outputs": [
    {
     "data": {
      "text/plain": [
       "28"
      ]
     },
     "execution_count": 16,
     "metadata": {},
     "output_type": "execute_result"
    }
   ],
   "source": [
    "list_name    = '/data/pt_mar006/documents/all_sd_after_qc_nohistory.txt'\n",
    "with open(list_name) as f:\n",
    "    subject_list_3rs = f.read().splitlines()\n",
    "len(subject_list_3rs)"
   ]
  },
  {
   "cell_type": "code",
   "execution_count": 17,
   "metadata": {},
   "outputs": [
    {
     "name": "stdout",
     "output_type": "stream",
     "text": [
      "number of stroke patients included:  28\n",
      "AGE mean, std:  65.03571428571429 13.270636320832109\n"
     ]
    }
   ],
   "source": [
    "print \"number of stroke patients included: \", len(db[db.inclusion == 'yes']['age'])\n",
    "print \"AGE mean, std: \", db.ix[subject_list_3rs].age.mean(),  db.ix[subject_list_3rs].age.std()"
   ]
  },
  {
   "cell_type": "code",
   "execution_count": 22,
   "metadata": {},
   "outputs": [
    {
     "data": {
      "text/plain": [
       "study_id\n",
       "sd02    m\n",
       "sd05    m\n",
       "sd08    m\n",
       "sd10    f\n",
       "sd13    m\n",
       "sd14    f\n",
       "sd16    m\n",
       "sd17    m\n",
       "sd21    f\n",
       "sd25    f\n",
       "sd26    m\n",
       "sd28    f\n",
       "sd31    f\n",
       "sd32    m\n",
       "sd33    m\n",
       "sd35    f\n",
       "sd36    m\n",
       "sd38    m\n",
       "sd39    m\n",
       "sd40    f\n",
       "sd42    m\n",
       "sd43    f\n",
       "sd44    m\n",
       "sd45    f\n",
       "sd46    f\n",
       "sd48    m\n",
       "sd49    m\n",
       "sd52    m\n",
       "Name: sex, dtype: object"
      ]
     },
     "execution_count": 22,
     "metadata": {},
     "output_type": "execute_result"
    }
   ],
   "source": [
    "db.ix[subject_list_3rs].sex"
   ]
  },
  {
   "cell_type": "markdown",
   "metadata": {},
   "source": [
    "# scan day 1"
   ]
  },
  {
   "cell_type": "code",
   "execution_count": 23,
   "metadata": {},
   "outputs": [
    {
     "name": "stdout",
     "output_type": "stream",
     "text": [
      "first scanning day mean and std: "
     ]
    },
    {
     "data": {
      "text/plain": [
       "(1.0, 0.0)"
      ]
     },
     "execution_count": 23,
     "metadata": {},
     "output_type": "execute_result"
    },
    {
     "name": "stdout",
     "output_type": "stream",
     "text": [
      "\n"
     ]
    }
   ],
   "source": [
    "print \"first scanning day mean and std: \",\n",
    "db[db.inclusion == 'yes'].scan_two.mean(), db[db.inclusion == 'yes'].scan_two.std()"
   ]
  },
  {
   "cell_type": "markdown",
   "metadata": {},
   "source": [
    "# scan day 5"
   ]
  },
  {
   "cell_type": "code",
   "execution_count": 25,
   "metadata": {},
   "outputs": [
    {
     "name": "stdout",
     "output_type": "stream",
     "text": [
      "last scanning day mean and std: "
     ]
    },
    {
     "data": {
      "text/plain": [
       "(4.928571428571429, 0.3779644730092272)"
      ]
     },
     "execution_count": 25,
     "metadata": {},
     "output_type": "execute_result"
    },
    {
     "name": "stdout",
     "output_type": "stream",
     "text": [
      "\n"
     ]
    }
   ],
   "source": [
    "print \"last scanning day mean and std: \", \n",
    "db[db.inclusion == 'yes'].scan_last.mean(), db[db.inclusion == 'yes'].scan_last.std(), "
   ]
  },
  {
   "cell_type": "markdown",
   "metadata": {},
   "source": [
    "# nihss scores"
   ]
  },
  {
   "cell_type": "markdown",
   "metadata": {},
   "source": [
    "### nihss admission"
   ]
  },
  {
   "cell_type": "code",
   "execution_count": 29,
   "metadata": {},
   "outputs": [
    {
     "name": "stdout",
     "output_type": "stream",
     "text": [
      "2.5714285714285716\n",
      "2.700186158583384\n"
     ]
    }
   ],
   "source": [
    "print db.ix[subject_list_3rs].NIHSS_admission.mean()\n",
    "print db.ix[subject_list_3rs].NIHSS_admission.std() "
   ]
  },
  {
   "cell_type": "markdown",
   "metadata": {},
   "source": [
    "### nihss discharge"
   ]
  },
  {
   "cell_type": "code",
   "execution_count": 30,
   "metadata": {},
   "outputs": [
    {
     "name": "stdout",
     "output_type": "stream",
     "text": [
      "1.0\n",
      "1.1094003924504583\n"
     ]
    }
   ],
   "source": [
    "print db.ix[subject_list_3rs].NIHSS_discharge.mask(db.NIHSS_discharge=='no').mean()\n",
    "print db.ix[subject_list_3rs].NIHSS_discharge.mask(db.NIHSS_discharge=='no').std()"
   ]
  },
  {
   "cell_type": "code",
   "execution_count": null,
   "metadata": {},
   "outputs": [],
   "source": []
  },
  {
   "cell_type": "code",
   "execution_count": null,
   "metadata": {},
   "outputs": [],
   "source": []
  },
  {
   "cell_type": "markdown",
   "metadata": {},
   "source": [
    "# mrs scores"
   ]
  },
  {
   "cell_type": "markdown",
   "metadata": {},
   "source": [
    "### mrs admission"
   ]
  },
  {
   "cell_type": "code",
   "execution_count": 44,
   "metadata": {},
   "outputs": [
    {
     "name": "stdout",
     "output_type": "stream",
     "text": [
      "1.4615384615384615\n",
      "1.448606757702565\n"
     ]
    }
   ],
   "source": [
    "print db.ix[subject_list_3rs].mRS_admission.mask(db.mRS_admission=='no').mean()\n",
    "print db.ix[subject_list_3rs].mRS_admission.mask(db.mRS_admission=='no').std()"
   ]
  },
  {
   "cell_type": "markdown",
   "metadata": {},
   "source": [
    "### mrs discharge"
   ]
  },
  {
   "cell_type": "code",
   "execution_count": 45,
   "metadata": {},
   "outputs": [
    {
     "name": "stdout",
     "output_type": "stream",
     "text": [
      "0.7692307692307693\n",
      "0.9511127086814605\n"
     ]
    }
   ],
   "source": [
    "print db.ix[subject_list_3rs].mRS_discharge.mask(db.mRS_discharge=='no').mean()\n",
    "print db.ix[subject_list_3rs].mRS_discharge.mask(db.mRS_discharge=='no').std()"
   ]
  },
  {
   "cell_type": "code",
   "execution_count": null,
   "metadata": {},
   "outputs": [],
   "source": []
  },
  {
   "cell_type": "code",
   "execution_count": null,
   "metadata": {},
   "outputs": [],
   "source": []
  },
  {
   "cell_type": "code",
   "execution_count": null,
   "metadata": {},
   "outputs": [],
   "source": []
  },
  {
   "cell_type": "markdown",
   "metadata": {},
   "source": [
    "# test demographics between healthy and stroke"
   ]
  },
  {
   "cell_type": "markdown",
   "metadata": {},
   "source": [
    "### gender diff"
   ]
  },
  {
   "cell_type": "code",
   "execution_count": 33,
   "metadata": {},
   "outputs": [
    {
     "data": {
      "text/html": [
       "<div>\n",
       "<style scoped>\n",
       "    .dataframe tbody tr th:only-of-type {\n",
       "        vertical-align: middle;\n",
       "    }\n",
       "\n",
       "    .dataframe tbody tr th {\n",
       "        vertical-align: top;\n",
       "    }\n",
       "\n",
       "    .dataframe thead th {\n",
       "        text-align: right;\n",
       "    }\n",
       "</style>\n",
       "<table border=\"1\" class=\"dataframe\">\n",
       "  <thead>\n",
       "    <tr style=\"text-align: right;\">\n",
       "      <th></th>\n",
       "      <th>man</th>\n",
       "      <th>women</th>\n",
       "    </tr>\n",
       "    <tr>\n",
       "      <th>study</th>\n",
       "      <th></th>\n",
       "      <th></th>\n",
       "    </tr>\n",
       "  </thead>\n",
       "  <tbody>\n",
       "    <tr>\n",
       "      <th>healthy</th>\n",
       "      <td>15</td>\n",
       "      <td>13</td>\n",
       "    </tr>\n",
       "    <tr>\n",
       "      <th>stroke</th>\n",
       "      <td>17</td>\n",
       "      <td>11</td>\n",
       "    </tr>\n",
       "  </tbody>\n",
       "</table>\n",
       "</div>"
      ],
      "text/plain": [
       "         man  women\n",
       "study              \n",
       "healthy   15     13\n",
       "stroke    17     11"
      ]
     },
     "execution_count": 33,
     "metadata": {},
     "output_type": "execute_result"
    }
   ],
   "source": [
    "df_demog = pd.DataFrame({'study': ['healthy', 'stroke'],\n",
    "                         'women': [13, 11],\n",
    "                         'man':[15, 17]})\n",
    "\n",
    "#df_demog.set_index('study')\n",
    "df_demog = df_demog.set_index(\"study\")\n",
    "\n",
    "df_demog"
   ]
  },
  {
   "cell_type": "code",
   "execution_count": 34,
   "metadata": {},
   "outputs": [
    {
     "name": "stdout",
     "output_type": "stream",
     "text": [
      "28 28\n"
     ]
    },
    {
     "data": {
      "text/plain": [
       "KruskalResult(statistic=0.2864583333333028, pvalue=0.5924991041730836)"
      ]
     },
     "execution_count": 34,
     "metadata": {},
     "output_type": "execute_result"
    }
   ],
   "source": [
    "from scipy import stats\n",
    "\n",
    "# write 1's for males and 0's for females in both groups\n",
    "\n",
    "x = [ 1., 1., 1., 1., 1., 1., 1., 1., 1., 1., 1., 1., 1., 1., 1.,\n",
    "      0., 0., 0., 0., 0., 0., 0., 0., 0., 0., 0., 0., 0.]\n",
    "     \n",
    "y  = [ 1.,  1.,  1.,  0,  1.,  0.,  1.,  1.,  0.,  0.,  1., 0.,  0.,  1.,  1.,  0.,  1.,  1.,  1.,  \n",
    "      0.,  1.,  0.,  1.,  0., 0.,  1.,  1.,  1. ]\n",
    "\n",
    "print len(x), len(y)\n",
    "# H0 : median of all of the groups are equal.\n",
    "# p is not significant --> don't reject null hypothesis\n",
    "\n",
    "\n",
    "stats.kruskal(x, y)"
   ]
  },
  {
   "cell_type": "markdown",
   "metadata": {},
   "source": [
    "### age diff "
   ]
  },
  {
   "cell_type": "code",
   "execution_count": 35,
   "metadata": {},
   "outputs": [
    {
     "name": "stdout",
     "output_type": "stream",
     "text": [
      "number of healthy subjects included:  28\n"
     ]
    },
    {
     "data": {
      "text/plain": [
       "array([57, 72, 65, 69, 72, 70, 67, 64, 68, 68, 72, 61, 65, 67, 65, 76, 69,\n",
       "       64, 65, 69, 66, 63, 64, 71, 66, 69, 56, 26])"
      ]
     },
     "execution_count": 35,
     "metadata": {},
     "output_type": "execute_result"
    }
   ],
   "source": [
    "print \"number of healthy subjects included: \", len(dH[dH.inclusion == 'yes']['age'])\n",
    "dH[dH.inclusion == 'yes']['age'].values\n"
   ]
  },
  {
   "cell_type": "code",
   "execution_count": 36,
   "metadata": {},
   "outputs": [
    {
     "name": "stdout",
     "output_type": "stream",
     "text": [
      "number of stroke patients included:  28\n"
     ]
    },
    {
     "data": {
      "text/plain": [
       "array([47, 51, 64, 67, 76, 72, 54, 43, 72, 71, 79, 73, 81, 47, 68, 75, 50,\n",
       "       53, 59, 90, 72, 75, 78, 37, 63, 60, 63, 81])"
      ]
     },
     "execution_count": 36,
     "metadata": {},
     "output_type": "execute_result"
    }
   ],
   "source": [
    "print \"number of stroke patients included: \", len(db[db.inclusion == 'yes'])\n",
    "\n",
    "db[db.inclusion == 'yes'].age.values"
   ]
  },
  {
   "cell_type": "code",
   "execution_count": 39,
   "metadata": {},
   "outputs": [
    {
     "data": {
      "text/plain": [
       "Ttest_indResult(statistic=0.059264469630969964, pvalue=0.9529926703510472)"
      ]
     },
     "execution_count": 39,
     "metadata": {},
     "output_type": "execute_result"
    }
   ],
   "source": [
    "stats.ttest_ind(dH[dH.inclusion == 'yes']['age'], \n",
    "                      db[db.inclusion == 'yes']['age'], \n",
    "                      axis=0, equal_var=False, \n",
    "                      )\n"
   ]
  },
  {
   "cell_type": "code",
   "execution_count": null,
   "metadata": {},
   "outputs": [],
   "source": []
  },
  {
   "cell_type": "markdown",
   "metadata": {},
   "source": [
    "# stroke patients lesion volumes"
   ]
  },
  {
   "cell_type": "code",
   "execution_count": 52,
   "metadata": {},
   "outputs": [],
   "source": [
    "# get lesion volumes of patients included\n",
    "data_dir = '/data/pt_mar006/subjects_masks/'\n",
    "les_nam  = 'lesion_mask_mni_dilated.nii.gz'\n",
    "gm_nam   = 'gm_mask_no_lesion.nii.gz'\n",
    "rLesion = pd.DataFrame(index=subject_list, \n",
    "                       columns=['les_count',\n",
    "                                'les_vol'])\n",
    "for subject_id in subject_list:\n",
    "    \n",
    "    les_file = os.path.join(data_dir, subject_id, les_nam)\n",
    "    les_mask = nb.load(les_file).get_data()\n",
    "    les_cnt = len(np.where(les_mask==1)[0])\n",
    "    \n",
    "    rLesion.ix[subject_id]['les_count'] = les_cnt\n",
    "    rLesion.ix[subject_id]['les_vol'] = les_cnt * 3*3*3 * 0.001 # (cm^3)"
   ]
  },
  {
   "cell_type": "code",
   "execution_count": 78,
   "metadata": {},
   "outputs": [
    {
     "name": "stdout",
     "output_type": "stream",
     "text": [
      "LESION VOLUME MEAN AND STD:\n",
      "4.112678571428572 2.8012423838106444\n"
     ]
    }
   ],
   "source": [
    "print \"LESION VOLUME MEAN AND STD:\"\n",
    "print rLesion.les_vol.mean(), rLesion.les_vol.std()"
   ]
  },
  {
   "cell_type": "code",
   "execution_count": 62,
   "metadata": {},
   "outputs": [
    {
     "data": {
      "text/html": [
       "<div>\n",
       "<style scoped>\n",
       "    .dataframe tbody tr th:only-of-type {\n",
       "        vertical-align: middle;\n",
       "    }\n",
       "\n",
       "    .dataframe tbody tr th {\n",
       "        vertical-align: top;\n",
       "    }\n",
       "\n",
       "    .dataframe thead th {\n",
       "        text-align: right;\n",
       "    }\n",
       "</style>\n",
       "<table border=\"1\" class=\"dataframe\">\n",
       "  <thead>\n",
       "    <tr style=\"text-align: right;\">\n",
       "      <th></th>\n",
       "      <th>les_count</th>\n",
       "      <th>les_vol</th>\n",
       "    </tr>\n",
       "  </thead>\n",
       "  <tbody>\n",
       "    <tr>\n",
       "      <th>sd02</th>\n",
       "      <td>192</td>\n",
       "      <td>5.184</td>\n",
       "    </tr>\n",
       "    <tr>\n",
       "      <th>sd05</th>\n",
       "      <td>277</td>\n",
       "      <td>7.479</td>\n",
       "    </tr>\n",
       "    <tr>\n",
       "      <th>sd08</th>\n",
       "      <td>151</td>\n",
       "      <td>4.077</td>\n",
       "    </tr>\n",
       "    <tr>\n",
       "      <th>sd10</th>\n",
       "      <td>135</td>\n",
       "      <td>3.645</td>\n",
       "    </tr>\n",
       "    <tr>\n",
       "      <th>sd13</th>\n",
       "      <td>69</td>\n",
       "      <td>1.863</td>\n",
       "    </tr>\n",
       "    <tr>\n",
       "      <th>sd14</th>\n",
       "      <td>45</td>\n",
       "      <td>1.215</td>\n",
       "    </tr>\n",
       "    <tr>\n",
       "      <th>sd16</th>\n",
       "      <td>75</td>\n",
       "      <td>2.025</td>\n",
       "    </tr>\n",
       "    <tr>\n",
       "      <th>sd17</th>\n",
       "      <td>78</td>\n",
       "      <td>2.106</td>\n",
       "    </tr>\n",
       "    <tr>\n",
       "      <th>sd21</th>\n",
       "      <td>522</td>\n",
       "      <td>14.094</td>\n",
       "    </tr>\n",
       "    <tr>\n",
       "      <th>sd25</th>\n",
       "      <td>252</td>\n",
       "      <td>6.804</td>\n",
       "    </tr>\n",
       "    <tr>\n",
       "      <th>sd26</th>\n",
       "      <td>118</td>\n",
       "      <td>3.186</td>\n",
       "    </tr>\n",
       "    <tr>\n",
       "      <th>sd28</th>\n",
       "      <td>125</td>\n",
       "      <td>3.375</td>\n",
       "    </tr>\n",
       "    <tr>\n",
       "      <th>sd31</th>\n",
       "      <td>119</td>\n",
       "      <td>3.213</td>\n",
       "    </tr>\n",
       "    <tr>\n",
       "      <th>sd32</th>\n",
       "      <td>93</td>\n",
       "      <td>2.511</td>\n",
       "    </tr>\n",
       "    <tr>\n",
       "      <th>sd33</th>\n",
       "      <td>162</td>\n",
       "      <td>4.374</td>\n",
       "    </tr>\n",
       "    <tr>\n",
       "      <th>sd35</th>\n",
       "      <td>269</td>\n",
       "      <td>7.263</td>\n",
       "    </tr>\n",
       "    <tr>\n",
       "      <th>sd36</th>\n",
       "      <td>84</td>\n",
       "      <td>2.268</td>\n",
       "    </tr>\n",
       "    <tr>\n",
       "      <th>sd38</th>\n",
       "      <td>54</td>\n",
       "      <td>1.458</td>\n",
       "    </tr>\n",
       "    <tr>\n",
       "      <th>sd39</th>\n",
       "      <td>176</td>\n",
       "      <td>4.752</td>\n",
       "    </tr>\n",
       "    <tr>\n",
       "      <th>sd40</th>\n",
       "      <td>282</td>\n",
       "      <td>7.614</td>\n",
       "    </tr>\n",
       "    <tr>\n",
       "      <th>sd42</th>\n",
       "      <td>144</td>\n",
       "      <td>3.888</td>\n",
       "    </tr>\n",
       "    <tr>\n",
       "      <th>sd43</th>\n",
       "      <td>93</td>\n",
       "      <td>2.511</td>\n",
       "    </tr>\n",
       "    <tr>\n",
       "      <th>sd44</th>\n",
       "      <td>127</td>\n",
       "      <td>3.429</td>\n",
       "    </tr>\n",
       "    <tr>\n",
       "      <th>sd45</th>\n",
       "      <td>66</td>\n",
       "      <td>1.782</td>\n",
       "    </tr>\n",
       "    <tr>\n",
       "      <th>sd46</th>\n",
       "      <td>201</td>\n",
       "      <td>5.427</td>\n",
       "    </tr>\n",
       "    <tr>\n",
       "      <th>sd48</th>\n",
       "      <td>27</td>\n",
       "      <td>0.729</td>\n",
       "    </tr>\n",
       "    <tr>\n",
       "      <th>sd49</th>\n",
       "      <td>250</td>\n",
       "      <td>6.75</td>\n",
       "    </tr>\n",
       "    <tr>\n",
       "      <th>sd52</th>\n",
       "      <td>79</td>\n",
       "      <td>2.133</td>\n",
       "    </tr>\n",
       "  </tbody>\n",
       "</table>\n",
       "</div>"
      ],
      "text/plain": [
       "     les_count les_vol\n",
       "sd02       192   5.184\n",
       "sd05       277   7.479\n",
       "sd08       151   4.077\n",
       "sd10       135   3.645\n",
       "sd13        69   1.863\n",
       "sd14        45   1.215\n",
       "sd16        75   2.025\n",
       "sd17        78   2.106\n",
       "sd21       522  14.094\n",
       "sd25       252   6.804\n",
       "sd26       118   3.186\n",
       "sd28       125   3.375\n",
       "sd31       119   3.213\n",
       "sd32        93   2.511\n",
       "sd33       162   4.374\n",
       "sd35       269   7.263\n",
       "sd36        84   2.268\n",
       "sd38        54   1.458\n",
       "sd39       176   4.752\n",
       "sd40       282   7.614\n",
       "sd42       144   3.888\n",
       "sd43        93   2.511\n",
       "sd44       127   3.429\n",
       "sd45        66   1.782\n",
       "sd46       201   5.427\n",
       "sd48        27   0.729\n",
       "sd49       250    6.75\n",
       "sd52        79   2.133"
      ]
     },
     "execution_count": 62,
     "metadata": {},
     "output_type": "execute_result"
    }
   ],
   "source": [
    "rLesion"
   ]
  },
  {
   "cell_type": "markdown",
   "metadata": {},
   "source": [
    "# gray matter template used to get gradients from healthy controls"
   ]
  },
  {
   "cell_type": "code",
   "execution_count": 40,
   "metadata": {},
   "outputs": [],
   "source": [
    "image_mask = os.path.join('/data/pt_mar006/subjects_group',\n",
    "                          'mni3_rest_gm_mask.nii.gz')\n",
    "\n",
    "A = nb.load(image_mask).get_data()"
   ]
  },
  {
   "cell_type": "code",
   "execution_count": 41,
   "metadata": {},
   "outputs": [
    {
     "name": "stdout",
     "output_type": "stream",
     "text": [
      "number of voxels used to get gradients:  (33327,)\n"
     ]
    }
   ],
   "source": [
    "print \"number of voxels used to get gradients: \",  np.where(A == 1)[0].shape"
   ]
  },
  {
   "cell_type": "markdown",
   "metadata": {},
   "source": [
    "# gray matter templates used for individual patients"
   ]
  },
  {
   "cell_type": "code",
   "execution_count": 42,
   "metadata": {},
   "outputs": [
    {
     "name": "stdout",
     "output_type": "stream",
     "text": [
      "33134\n",
      "33086\n",
      "33177\n",
      "32888\n",
      "33179\n",
      "32935\n",
      "33185\n",
      "32730\n",
      "33110\n",
      "32760\n",
      "33015\n",
      "33070\n",
      "32925\n",
      "32659\n",
      "33114\n",
      "33040\n",
      "32768\n",
      "33116\n",
      "33085\n",
      "32710\n",
      "33119\n",
      "33212\n",
      "33005\n",
      "33155\n",
      "33146\n",
      "33201\n",
      "33122\n",
      "33162\n"
     ]
    }
   ],
   "source": [
    "data_dir         = '/data/pt_mar006/subjects_masks/'\n",
    "gmask_file       = 'gm_mask_no_lesion.nii.gz'\n",
    "concordance_file = 'conc_ccc.nii.gz'\n",
    "\n",
    "list_name    = '/data/pt_mar006/documents/all_sd_after_qc_nohistory.txt'\n",
    "with open(list_name) as f:\n",
    "    subject_list = f.read().splitlines()\n",
    "\n",
    "DF  = pd.DataFrame()\n",
    "RES = {}\n",
    "\n",
    "B = []\n",
    "for subject_id in subject_list:\n",
    "    \n",
    "    gm_file     = os.path.join(data_dir, subject_id, \n",
    "                               gmask_file)\n",
    "\n",
    "    tmp = nb.load(gm_file).get_data()\n",
    "    length = len(np.where(tmp==1)[0])\n",
    "    print length\n",
    "    B.append(length)"
   ]
  },
  {
   "cell_type": "code",
   "execution_count": 43,
   "metadata": {},
   "outputs": [
    {
     "name": "stdout",
     "output_type": "stream",
     "text": [
      "patients with min and max GM voxels:  32659 33212\n"
     ]
    }
   ],
   "source": [
    "B = np.array(B)\n",
    "print \"patients with min and max GM voxels: \", B.min(), B.max()"
   ]
  },
  {
   "cell_type": "code",
   "execution_count": null,
   "metadata": {},
   "outputs": [],
   "source": []
  },
  {
   "cell_type": "markdown",
   "metadata": {},
   "source": [
    "# vizualize table"
   ]
  },
  {
   "cell_type": "code",
   "execution_count": 79,
   "metadata": {},
   "outputs": [],
   "source": [
    "table = pd.concat([db.ix[subject_list].age,\n",
    "                   db.ix[subject_list].sex,\n",
    "                   rLesion.ix[subject_list].les_vol,\n",
    "                   db.ix[subject_list].NIHSS_admission,\n",
    "                   db.ix[subject_list].NIHSS_discharge,\n",
    "                   db.ix[subject_list].mRS_admission,\n",
    "                   db.ix[subject_list].mRS_discharge,\n",
    "                   ],\n",
    "                   axis =1)"
   ]
  },
  {
   "cell_type": "code",
   "execution_count": 80,
   "metadata": {},
   "outputs": [
    {
     "data": {
      "text/html": [
       "<div>\n",
       "<style scoped>\n",
       "    .dataframe tbody tr th:only-of-type {\n",
       "        vertical-align: middle;\n",
       "    }\n",
       "\n",
       "    .dataframe tbody tr th {\n",
       "        vertical-align: top;\n",
       "    }\n",
       "\n",
       "    .dataframe thead th {\n",
       "        text-align: right;\n",
       "    }\n",
       "</style>\n",
       "<table border=\"1\" class=\"dataframe\">\n",
       "  <thead>\n",
       "    <tr style=\"text-align: right;\">\n",
       "      <th></th>\n",
       "      <th>age</th>\n",
       "      <th>sex</th>\n",
       "      <th>les_vol</th>\n",
       "      <th>NIHSS_admission</th>\n",
       "      <th>NIHSS_discharge</th>\n",
       "      <th>mRS_admission</th>\n",
       "      <th>mRS_discharge</th>\n",
       "    </tr>\n",
       "    <tr>\n",
       "      <th>study_id</th>\n",
       "      <th></th>\n",
       "      <th></th>\n",
       "      <th></th>\n",
       "      <th></th>\n",
       "      <th></th>\n",
       "      <th></th>\n",
       "      <th></th>\n",
       "    </tr>\n",
       "  </thead>\n",
       "  <tbody>\n",
       "    <tr>\n",
       "      <th>sd02</th>\n",
       "      <td>47</td>\n",
       "      <td>m</td>\n",
       "      <td>5.184</td>\n",
       "      <td>6</td>\n",
       "      <td>1</td>\n",
       "      <td>2</td>\n",
       "      <td>1</td>\n",
       "    </tr>\n",
       "    <tr>\n",
       "      <th>sd05</th>\n",
       "      <td>51</td>\n",
       "      <td>m</td>\n",
       "      <td>7.479</td>\n",
       "      <td>5</td>\n",
       "      <td>3</td>\n",
       "      <td>2</td>\n",
       "      <td>2</td>\n",
       "    </tr>\n",
       "    <tr>\n",
       "      <th>sd08</th>\n",
       "      <td>64</td>\n",
       "      <td>m</td>\n",
       "      <td>4.077</td>\n",
       "      <td>1</td>\n",
       "      <td>0</td>\n",
       "      <td>1</td>\n",
       "      <td>0</td>\n",
       "    </tr>\n",
       "    <tr>\n",
       "      <th>sd10</th>\n",
       "      <td>67</td>\n",
       "      <td>f</td>\n",
       "      <td>3.645</td>\n",
       "      <td>0</td>\n",
       "      <td>0</td>\n",
       "      <td>0</td>\n",
       "      <td>0</td>\n",
       "    </tr>\n",
       "    <tr>\n",
       "      <th>sd13</th>\n",
       "      <td>76</td>\n",
       "      <td>m</td>\n",
       "      <td>1.863</td>\n",
       "      <td>7</td>\n",
       "      <td>0</td>\n",
       "      <td>4</td>\n",
       "      <td>0</td>\n",
       "    </tr>\n",
       "    <tr>\n",
       "      <th>sd14</th>\n",
       "      <td>72</td>\n",
       "      <td>f</td>\n",
       "      <td>1.215</td>\n",
       "      <td>0</td>\n",
       "      <td>0</td>\n",
       "      <td>0</td>\n",
       "      <td>0</td>\n",
       "    </tr>\n",
       "    <tr>\n",
       "      <th>sd16</th>\n",
       "      <td>54</td>\n",
       "      <td>m</td>\n",
       "      <td>2.025</td>\n",
       "      <td>1</td>\n",
       "      <td>0</td>\n",
       "      <td>0</td>\n",
       "      <td>0</td>\n",
       "    </tr>\n",
       "    <tr>\n",
       "      <th>sd17</th>\n",
       "      <td>43</td>\n",
       "      <td>m</td>\n",
       "      <td>2.106</td>\n",
       "      <td>3</td>\n",
       "      <td>2</td>\n",
       "      <td>2</td>\n",
       "      <td>2</td>\n",
       "    </tr>\n",
       "    <tr>\n",
       "      <th>sd21</th>\n",
       "      <td>72</td>\n",
       "      <td>f</td>\n",
       "      <td>14.094</td>\n",
       "      <td>1</td>\n",
       "      <td>0</td>\n",
       "      <td>3</td>\n",
       "      <td>2</td>\n",
       "    </tr>\n",
       "    <tr>\n",
       "      <th>sd25</th>\n",
       "      <td>71</td>\n",
       "      <td>f</td>\n",
       "      <td>6.804</td>\n",
       "      <td>5</td>\n",
       "      <td>0</td>\n",
       "      <td>3</td>\n",
       "      <td>0</td>\n",
       "    </tr>\n",
       "    <tr>\n",
       "      <th>sd26</th>\n",
       "      <td>79</td>\n",
       "      <td>m</td>\n",
       "      <td>3.186</td>\n",
       "      <td>2</td>\n",
       "      <td>no</td>\n",
       "      <td>no</td>\n",
       "      <td>no</td>\n",
       "    </tr>\n",
       "    <tr>\n",
       "      <th>sd28</th>\n",
       "      <td>73</td>\n",
       "      <td>f</td>\n",
       "      <td>3.375</td>\n",
       "      <td>5</td>\n",
       "      <td>2</td>\n",
       "      <td>3</td>\n",
       "      <td>1</td>\n",
       "    </tr>\n",
       "    <tr>\n",
       "      <th>sd31</th>\n",
       "      <td>81</td>\n",
       "      <td>f</td>\n",
       "      <td>3.213</td>\n",
       "      <td>4</td>\n",
       "      <td>2</td>\n",
       "      <td>3</td>\n",
       "      <td>2</td>\n",
       "    </tr>\n",
       "    <tr>\n",
       "      <th>sd32</th>\n",
       "      <td>47</td>\n",
       "      <td>m</td>\n",
       "      <td>2.511</td>\n",
       "      <td>11</td>\n",
       "      <td>0</td>\n",
       "      <td>4</td>\n",
       "      <td>0</td>\n",
       "    </tr>\n",
       "    <tr>\n",
       "      <th>sd33</th>\n",
       "      <td>68</td>\n",
       "      <td>m</td>\n",
       "      <td>4.374</td>\n",
       "      <td>1</td>\n",
       "      <td>1</td>\n",
       "      <td>2</td>\n",
       "      <td>2</td>\n",
       "    </tr>\n",
       "    <tr>\n",
       "      <th>sd35</th>\n",
       "      <td>75</td>\n",
       "      <td>f</td>\n",
       "      <td>7.263</td>\n",
       "      <td>3</td>\n",
       "      <td>2</td>\n",
       "      <td>2</td>\n",
       "      <td>2</td>\n",
       "    </tr>\n",
       "    <tr>\n",
       "      <th>sd36</th>\n",
       "      <td>50</td>\n",
       "      <td>m</td>\n",
       "      <td>2.268</td>\n",
       "      <td>1</td>\n",
       "      <td>1</td>\n",
       "      <td>1</td>\n",
       "      <td>1</td>\n",
       "    </tr>\n",
       "    <tr>\n",
       "      <th>sd38</th>\n",
       "      <td>53</td>\n",
       "      <td>m</td>\n",
       "      <td>1.458</td>\n",
       "      <td>1</td>\n",
       "      <td>0</td>\n",
       "      <td>1</td>\n",
       "      <td>0</td>\n",
       "    </tr>\n",
       "    <tr>\n",
       "      <th>sd39</th>\n",
       "      <td>59</td>\n",
       "      <td>m</td>\n",
       "      <td>4.752</td>\n",
       "      <td>1</td>\n",
       "      <td>1</td>\n",
       "      <td>1</td>\n",
       "      <td>1</td>\n",
       "    </tr>\n",
       "    <tr>\n",
       "      <th>sd40</th>\n",
       "      <td>90</td>\n",
       "      <td>f</td>\n",
       "      <td>7.614</td>\n",
       "      <td>6</td>\n",
       "      <td>2</td>\n",
       "      <td>no</td>\n",
       "      <td>no</td>\n",
       "    </tr>\n",
       "    <tr>\n",
       "      <th>sd42</th>\n",
       "      <td>72</td>\n",
       "      <td>m</td>\n",
       "      <td>3.888</td>\n",
       "      <td>0</td>\n",
       "      <td>0</td>\n",
       "      <td>0</td>\n",
       "      <td>0</td>\n",
       "    </tr>\n",
       "    <tr>\n",
       "      <th>sd43</th>\n",
       "      <td>75</td>\n",
       "      <td>f</td>\n",
       "      <td>2.511</td>\n",
       "      <td>4</td>\n",
       "      <td>4</td>\n",
       "      <td>4</td>\n",
       "      <td>3</td>\n",
       "    </tr>\n",
       "    <tr>\n",
       "      <th>sd44</th>\n",
       "      <td>78</td>\n",
       "      <td>m</td>\n",
       "      <td>3.429</td>\n",
       "      <td>1</td>\n",
       "      <td>2</td>\n",
       "      <td>0</td>\n",
       "      <td>1</td>\n",
       "    </tr>\n",
       "    <tr>\n",
       "      <th>sd45</th>\n",
       "      <td>37</td>\n",
       "      <td>f</td>\n",
       "      <td>1.782</td>\n",
       "      <td>0</td>\n",
       "      <td>0</td>\n",
       "      <td>0</td>\n",
       "      <td>0</td>\n",
       "    </tr>\n",
       "    <tr>\n",
       "      <th>sd46</th>\n",
       "      <td>63</td>\n",
       "      <td>f</td>\n",
       "      <td>5.427</td>\n",
       "      <td>1</td>\n",
       "      <td>2</td>\n",
       "      <td>0</td>\n",
       "      <td>0</td>\n",
       "    </tr>\n",
       "    <tr>\n",
       "      <th>sd48</th>\n",
       "      <td>60</td>\n",
       "      <td>m</td>\n",
       "      <td>0.729</td>\n",
       "      <td>1</td>\n",
       "      <td>1</td>\n",
       "      <td>0</td>\n",
       "      <td>0</td>\n",
       "    </tr>\n",
       "    <tr>\n",
       "      <th>sd49</th>\n",
       "      <td>63</td>\n",
       "      <td>m</td>\n",
       "      <td>6.75</td>\n",
       "      <td>1</td>\n",
       "      <td>1</td>\n",
       "      <td>0</td>\n",
       "      <td>0</td>\n",
       "    </tr>\n",
       "    <tr>\n",
       "      <th>sd52</th>\n",
       "      <td>81</td>\n",
       "      <td>m</td>\n",
       "      <td>2.133</td>\n",
       "      <td>0</td>\n",
       "      <td>0</td>\n",
       "      <td>0</td>\n",
       "      <td>0</td>\n",
       "    </tr>\n",
       "  </tbody>\n",
       "</table>\n",
       "</div>"
      ],
      "text/plain": [
       "          age sex les_vol  NIHSS_admission NIHSS_discharge mRS_admission  \\\n",
       "study_id                                                                   \n",
       "sd02       47   m   5.184                6               1             2   \n",
       "sd05       51   m   7.479                5               3             2   \n",
       "sd08       64   m   4.077                1               0             1   \n",
       "sd10       67   f   3.645                0               0             0   \n",
       "sd13       76   m   1.863                7               0             4   \n",
       "sd14       72   f   1.215                0               0             0   \n",
       "sd16       54   m   2.025                1               0             0   \n",
       "sd17       43   m   2.106                3               2             2   \n",
       "sd21       72   f  14.094                1               0             3   \n",
       "sd25       71   f   6.804                5               0             3   \n",
       "sd26       79   m   3.186                2              no            no   \n",
       "sd28       73   f   3.375                5               2             3   \n",
       "sd31       81   f   3.213                4               2             3   \n",
       "sd32       47   m   2.511               11               0             4   \n",
       "sd33       68   m   4.374                1               1             2   \n",
       "sd35       75   f   7.263                3               2             2   \n",
       "sd36       50   m   2.268                1               1             1   \n",
       "sd38       53   m   1.458                1               0             1   \n",
       "sd39       59   m   4.752                1               1             1   \n",
       "sd40       90   f   7.614                6               2            no   \n",
       "sd42       72   m   3.888                0               0             0   \n",
       "sd43       75   f   2.511                4               4             4   \n",
       "sd44       78   m   3.429                1               2             0   \n",
       "sd45       37   f   1.782                0               0             0   \n",
       "sd46       63   f   5.427                1               2             0   \n",
       "sd48       60   m   0.729                1               1             0   \n",
       "sd49       63   m    6.75                1               1             0   \n",
       "sd52       81   m   2.133                0               0             0   \n",
       "\n",
       "         mRS_discharge  \n",
       "study_id                \n",
       "sd02                 1  \n",
       "sd05                 2  \n",
       "sd08                 0  \n",
       "sd10                 0  \n",
       "sd13                 0  \n",
       "sd14                 0  \n",
       "sd16                 0  \n",
       "sd17                 2  \n",
       "sd21                 2  \n",
       "sd25                 0  \n",
       "sd26                no  \n",
       "sd28                 1  \n",
       "sd31                 2  \n",
       "sd32                 0  \n",
       "sd33                 2  \n",
       "sd35                 2  \n",
       "sd36                 1  \n",
       "sd38                 0  \n",
       "sd39                 1  \n",
       "sd40                no  \n",
       "sd42                 0  \n",
       "sd43                 3  \n",
       "sd44                 1  \n",
       "sd45                 0  \n",
       "sd46                 0  \n",
       "sd48                 0  \n",
       "sd49                 0  \n",
       "sd52                 0  "
      ]
     },
     "execution_count": 80,
     "metadata": {},
     "output_type": "execute_result"
    }
   ],
   "source": [
    "table"
   ]
  },
  {
   "cell_type": "code",
   "execution_count": 45,
   "metadata": {},
   "outputs": [],
   "source": [
    "## Create a Pandas Excel writer using XlsxWriter as the engine.\n",
    "#writer = pd.ExcelWriter('/data/pt_mar006/documents/table_tmp.xlsx')\n",
    "#table.ix[subject_list].to_excel(writer, sheet_name='Sheet1')\n",
    "#writer.close()"
   ]
  },
  {
   "cell_type": "markdown",
   "metadata": {},
   "source": [
    "# # get number of voxels for each patient used to compute concordance"
   ]
  },
  {
   "cell_type": "code",
   "execution_count": 16,
   "metadata": {},
   "outputs": [],
   "source": [
    "mask_dir = '/data/pt_mar006/subjects_masks/'\n",
    "df       = pd.DataFrame(index=subject_list, \n",
    "                        columns=['voxnum'])\n",
    "\n",
    "for sbj in subject_list:\n",
    "    sbj_mask = os.path.join(mask_dir, sbj, 'gm_mask.nii.gz')\n",
    "    mask_arr = nb.load(sbj_mask).get_data()\n",
    "    voxnum   = np.where(mask_arr == 1)[0].shape\n",
    "    df.ix[sbj]['voxnum'] = voxnum"
   ]
  },
  {
   "cell_type": "code",
   "execution_count": 17,
   "metadata": {},
   "outputs": [
    {
     "name": "stdout",
     "output_type": "stream",
     "text": [
      "(32745,) (33271,)\n"
     ]
    }
   ],
   "source": [
    "print df.voxnum.min(), df.voxnum.max()"
   ]
  },
  {
   "cell_type": "code",
   "execution_count": 18,
   "metadata": {},
   "outputs": [
    {
     "name": "stdout",
     "output_type": "stream",
     "text": [
      "variation in voxel numbers:  526\n"
     ]
    }
   ],
   "source": [
    "print \"variation in voxel numbers: \",  df.voxnum.max()[0] - df.voxnum.min()[0]"
   ]
  },
  {
   "cell_type": "code",
   "execution_count": 31,
   "metadata": {},
   "outputs": [],
   "source": []
  }
 ],
 "metadata": {
  "kernelspec": {
   "display_name": "Python 2",
   "language": "python",
   "name": "python2"
  },
  "language_info": {
   "codemirror_mode": {
    "name": "ipython",
    "version": 2
   },
   "file_extension": ".py",
   "mimetype": "text/x-python",
   "name": "python",
   "nbconvert_exporter": "python",
   "pygments_lexer": "ipython2",
   "version": "2.7.15"
  }
 },
 "nbformat": 4,
 "nbformat_minor": 1
}
