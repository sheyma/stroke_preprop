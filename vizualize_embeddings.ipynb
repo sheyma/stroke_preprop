{
 "metadata": {
  "name": "",
  "signature": "sha256:718cdf0e6f696cf21bbc0e64fc9e16312adc2b43a3c60283cbf8835ad5534e36"
 },
 "nbformat": 3,
 "nbformat_minor": 0,
 "worksheets": [
  {
   "cells": [
    {
     "cell_type": "code",
     "collapsed": false,
     "input": [],
     "language": "python",
     "metadata": {},
     "outputs": []
    },
    {
     "cell_type": "code",
     "collapsed": false,
     "input": [
      "comp_file = '/data/pt_mar006/subjects_group/mni3_component_1.nii.gz'\n",
      "\n",
      "import nipype.interfaces.freesurfer as fs\n",
      "sampler = fs.SampleToSurface(hemi=\"lh\")\n",
      "sampler.inputs.source_file = comp_file\n",
      "sampler.inputs.mni152reg = True\n",
      "\n",
      "#sampler.inputs.reg_file = '/afs/cbs.mpg.de/software/freesurfer/6.0.0/ubuntu-xenial-amd64/average/mni152.register.dat'\n",
      "\n",
      "sampler.inputs.sampling_method = \"average\"\n",
      "sampler.inputs.sampling_range = (0, 0.8, 1.0)\n",
      "sampler.inputs.sampling_units = \"frac\"\n",
      "sampler.inputs.out_file = '/data/pt_mar006/tmp/comp_01_lh.mgz'\n",
      "print sampler.cmdline\n",
      "res = sampler.run()"
     ],
     "language": "python",
     "metadata": {},
     "outputs": [
      {
       "output_type": "stream",
       "stream": "stderr",
       "text": [
        "INFO:interface:stdout 2017-07-18T10:45:50.748188:srcvol = /data/pt_mar006/subjects_group/mni3_component_1.nii.gz\n"
       ]
      },
      {
       "output_type": "stream",
       "stream": "stderr",
       "text": [
        "INFO:interface:stdout 2017-07-18T10:45:50.748188:srcreg = /afs/cbs.mpg.de/software/freesurfer/6.0.0/ubuntu-xenial-amd64/average/mni152.register.dat\n"
       ]
      },
      {
       "output_type": "stream",
       "stream": "stderr",
       "text": [
        "INFO:interface:stdout 2017-07-18T10:45:50.748188:srcregold = 0\n"
       ]
      },
      {
       "output_type": "stream",
       "stream": "stderr",
       "text": [
        "INFO:interface:stdout 2017-07-18T10:45:50.748188:srcwarp unspecified\n"
       ]
      },
      {
       "output_type": "stream",
       "stream": "stderr",
       "text": [
        "INFO:interface:stdout 2017-07-18T10:45:50.748188:surf = white\n"
       ]
      },
      {
       "output_type": "stream",
       "stream": "stderr",
       "text": [
        "INFO:interface:stdout 2017-07-18T10:45:50.748188:hemi = lh\n"
       ]
      },
      {
       "output_type": "stream",
       "stream": "stderr",
       "text": [
        "INFO:interface:stdout 2017-07-18T10:45:50.748188:ProjFrac = 0.5\n"
       ]
      },
      {
       "output_type": "stream",
       "stream": "stderr",
       "text": [
        "INFO:interface:stdout 2017-07-18T10:45:50.748188:thickness = thickness\n"
       ]
      },
      {
       "output_type": "stream",
       "stream": "stderr",
       "text": [
        "INFO:interface:stdout 2017-07-18T10:45:50.748188:reshape = 0\n"
       ]
      },
      {
       "output_type": "stream",
       "stream": "stderr",
       "text": [
        "INFO:interface:stdout 2017-07-18T10:45:50.748188:interp = nearest\n"
       ]
      },
      {
       "output_type": "stream",
       "stream": "stderr",
       "text": [
        "INFO:interface:stdout 2017-07-18T10:45:50.748188:float2int = round\n"
       ]
      },
      {
       "output_type": "stream",
       "stream": "stderr",
       "text": [
        "INFO:interface:stdout 2017-07-18T10:45:50.748188:GetProjMax = 0\n"
       ]
      },
      {
       "output_type": "stream",
       "stream": "stderr",
       "text": [
        "INFO:interface:stdout 2017-07-18T10:45:50.748188:INFO: float2int code = 0\n"
       ]
      },
      {
       "output_type": "stream",
       "stream": "stderr",
       "text": [
        "INFO:interface:stdout 2017-07-18T10:45:50.748188:niiRead(): NIFTI_UNITS_UNKNOWN, assuming mm\n"
       ]
      },
      {
       "output_type": "stream",
       "stream": "stderr",
       "text": [
        "INFO:interface:stdout 2017-07-18T10:45:50.748188:Done loading volume\n"
       ]
      },
      {
       "output_type": "stream",
       "stream": "stderr",
       "text": [
        "INFO:interface:stdout 2017-07-18T10:45:50.748188:INFO: This REGISTER_DAT transform is valid only for volumes between  COR types with c_(r,a,s) = 0.\n"
       ]
      },
      {
       "output_type": "stream",
       "stream": "stderr",
       "text": [
        "INFO:interface:stdout 2017-07-18T10:45:50.748188:Input reg is register.dat\n"
       ]
      },
      {
       "output_type": "stream",
       "stream": "stderr",
       "text": [
        "INFO:interface:stdout 2017-07-18T10:45:50.748188:WARNING: the voxel resolution in the source volume (3,3,3) differs \n"
       ]
      },
      {
       "output_type": "stream",
       "stream": "stderr",
       "text": [
        "INFO:interface:stdout 2017-07-18T10:45:50.748188:         from that listed in the registration file (1,1,1)\n"
       ]
      },
      {
       "output_type": "stream",
       "stream": "stderr",
       "text": [
        "INFO:interface:stdout 2017-07-18T10:45:50.748188:-------- original matrix -----------\n"
       ]
      },
      {
       "output_type": "stream",
       "stream": "stderr",
       "text": [
        "INFO:interface:stdout 2017-07-18T10:45:50.748188: 0.99753  -0.00732   0.01760   0.95709;\n"
       ]
      },
      {
       "output_type": "stream",
       "stream": "stderr",
       "text": [
        "INFO:interface:stdout 2017-07-18T10:45:50.748188:-0.01296  -0.00926   0.99706  -17.81596;\n"
       ]
      },
      {
       "output_type": "stream",
       "stream": "stderr",
       "text": [
        "INFO:interface:stdout 2017-07-18T10:45:50.748188:-0.01460  -1.00094   0.00244  -18.54964;\n"
       ]
      },
      {
       "output_type": "stream",
       "stream": "stderr",
       "text": [
        "INFO:interface:stdout 2017-07-18T10:45:50.748188: 0.00000   0.00000   0.00000   1.00000;\n"
       ]
      },
      {
       "output_type": "stream",
       "stream": "stderr",
       "text": [
        "INFO:interface:stdout 2017-07-18T10:45:52.800044:-------- original matrix -----------\n"
       ]
      },
      {
       "output_type": "stream",
       "stream": "stderr",
       "text": [
        "INFO:interface:stdout 2017-07-18T10:45:52.800044:Reading surface /afs/cbs.mpg.de/software/freesurfer/6.0.0/ubuntu-xenial-amd64/subjects/fsaverage/surf/lh.white\n"
       ]
      },
      {
       "output_type": "stream",
       "stream": "stderr",
       "text": [
        "INFO:interface:stdout 2017-07-18T10:45:52.800044:Done reading source surface\n"
       ]
      },
      {
       "output_type": "stream",
       "stream": "stderr",
       "text": [
        "INFO:interface:stdout 2017-07-18T10:45:52.800044:Reading thickness /afs/cbs.mpg.de/software/freesurfer/6.0.0/ubuntu-xenial-amd64/subjects/fsaverage/surf/lh.thickness\n"
       ]
      },
      {
       "output_type": "stream",
       "stream": "stderr",
       "text": [
        "INFO:interface:stdout 2017-07-18T10:45:52.800044:Done\n"
       ]
      },
      {
       "output_type": "stream",
       "stream": "stderr",
       "text": [
        "INFO:interface:stdout 2017-07-18T10:45:52.800044:Mapping Source Volume onto Source Subject Surface\n"
       ]
      },
      {
       "output_type": "stream",
       "stream": "stderr",
       "text": [
        "INFO:interface:stdout 2017-07-18T10:45:52.800044: 1 0 0 0.8\n"
       ]
      },
      {
       "output_type": "stream",
       "stream": "stderr",
       "text": [
        "INFO:interface:stdout 2017-07-18T10:45:52.800044:using old\n"
       ]
      },
      {
       "output_type": "stream",
       "stream": "stderr",
       "text": [
        "INFO:interface:stdout 2017-07-18T10:45:52.800044:Done mapping volume to surface\n"
       ]
      },
      {
       "output_type": "stream",
       "stream": "stderr",
       "text": [
        "INFO:interface:stdout 2017-07-18T10:45:52.800044:Number of source voxels hit = 9761\n"
       ]
      },
      {
       "output_type": "stream",
       "stream": "stderr",
       "text": [
        "INFO:interface:stdout 2017-07-18T10:45:52.800044:Writing to /data/pt_mar006/tmp/comp_01_lh.mgz\n"
       ]
      },
      {
       "output_type": "stream",
       "stream": "stderr",
       "text": [
        "INFO:interface:stdout 2017-07-18T10:45:52.800044:Dim: 163842 1 1\n"
       ]
      },
      {
       "output_type": "stream",
       "stream": "stdout",
       "text": [
        "mri_vol2surf --hemi lh --mni152reg --o /data/pt_mar006/tmp/comp_01_lh.mgz --projfrac-avg 0.000 0.800 1.000 --mov /data/pt_mar006/subjects_group/mni3_component_1.nii.gz\n"
       ]
      }
     ],
     "prompt_number": 2
    },
    {
     "cell_type": "code",
     "collapsed": false,
     "input": [
      "ll $comp_file"
     ],
     "language": "python",
     "metadata": {},
     "outputs": [
      {
       "output_type": "stream",
       "stream": "stdout",
       "text": [
        "-rw-rw-r-- 1 bayrak 289275 Nov 15  2016 \u001b[0m\u001b[01;31m/data/pt_mar006/subjects_group/mni3_component_1.nii.gz\u001b[0m\r\n"
       ]
      }
     ],
     "prompt_number": 44
    },
    {
     "cell_type": "code",
     "collapsed": false,
     "input": [
      "comp_file = '/data/pt_mar006/subjects_group/mni3_component_1.nii.gz'\n",
      "\n",
      "import nipype.interfaces.freesurfer as fs\n",
      "sampler = fs.SampleToSurface(hemi=\"rh\")\n",
      "sampler.inputs.source_file = comp_file\n",
      "sampler.inputs.mni152reg = True\n",
      "\n",
      "#sampler.inputs.reg_file = '/afs/cbs.mpg.de/software/freesurfer/6.0.0/ubuntu-xenial-amd64/average/mni152.register.dat'\n",
      "\n",
      "sampler.inputs.sampling_method = \"average\"\n",
      "sampler.inputs.sampling_range = (0, 0.8, 1.0)\n",
      "sampler.inputs.sampling_units = \"frac\"\n",
      "sampler.inputs.out_file = '/data/pt_mar006/tmp/comp_01_rh.mgh'\n",
      "print sampler.cmdline\n",
      "res = sampler.run()"
     ],
     "language": "python",
     "metadata": {},
     "outputs": [
      {
       "output_type": "stream",
       "stream": "stderr",
       "text": [
        "INFO:interface:stdout 2017-07-17T13:47:10.133837:srcvol = /data/pt_mar006/subjects_group/mni3_component_1.nii.gz\n"
       ]
      },
      {
       "output_type": "stream",
       "stream": "stderr",
       "text": [
        "INFO:interface:stdout 2017-07-17T13:47:10.133837:srcreg = /afs/cbs.mpg.de/software/freesurfer/6.0.0/ubuntu-xenial-amd64/average/mni152.register.dat\n"
       ]
      },
      {
       "output_type": "stream",
       "stream": "stderr",
       "text": [
        "INFO:interface:stdout 2017-07-17T13:47:10.133837:srcregold = 0\n"
       ]
      },
      {
       "output_type": "stream",
       "stream": "stderr",
       "text": [
        "INFO:interface:stdout 2017-07-17T13:47:10.133837:srcwarp unspecified\n"
       ]
      },
      {
       "output_type": "stream",
       "stream": "stderr",
       "text": [
        "INFO:interface:stdout 2017-07-17T13:47:10.133837:surf = white\n"
       ]
      },
      {
       "output_type": "stream",
       "stream": "stderr",
       "text": [
        "INFO:interface:stdout 2017-07-17T13:47:10.133837:hemi = rh\n"
       ]
      },
      {
       "output_type": "stream",
       "stream": "stderr",
       "text": [
        "INFO:interface:stdout 2017-07-17T13:47:10.133837:ProjFrac = 0.5\n"
       ]
      },
      {
       "output_type": "stream",
       "stream": "stderr",
       "text": [
        "INFO:interface:stdout 2017-07-17T13:47:10.133837:thickness = thickness\n"
       ]
      },
      {
       "output_type": "stream",
       "stream": "stderr",
       "text": [
        "INFO:interface:stdout 2017-07-17T13:47:10.133837:reshape = 0\n"
       ]
      },
      {
       "output_type": "stream",
       "stream": "stderr",
       "text": [
        "INFO:interface:stdout 2017-07-17T13:47:10.133837:interp = nearest\n"
       ]
      },
      {
       "output_type": "stream",
       "stream": "stderr",
       "text": [
        "INFO:interface:stdout 2017-07-17T13:47:10.133837:float2int = round\n"
       ]
      },
      {
       "output_type": "stream",
       "stream": "stderr",
       "text": [
        "INFO:interface:stdout 2017-07-17T13:47:10.133837:GetProjMax = 0\n"
       ]
      },
      {
       "output_type": "stream",
       "stream": "stderr",
       "text": [
        "INFO:interface:stdout 2017-07-17T13:47:10.133837:INFO: float2int code = 0\n"
       ]
      },
      {
       "output_type": "stream",
       "stream": "stderr",
       "text": [
        "INFO:interface:stdout 2017-07-17T13:47:10.133837:niiRead(): NIFTI_UNITS_UNKNOWN, assuming mm\n"
       ]
      },
      {
       "output_type": "stream",
       "stream": "stderr",
       "text": [
        "INFO:interface:stdout 2017-07-17T13:47:10.133837:Done loading volume\n"
       ]
      },
      {
       "output_type": "stream",
       "stream": "stderr",
       "text": [
        "INFO:interface:stdout 2017-07-17T13:47:10.133837:INFO: This REGISTER_DAT transform is valid only for volumes between  COR types with c_(r,a,s) = 0.\n"
       ]
      },
      {
       "output_type": "stream",
       "stream": "stderr",
       "text": [
        "INFO:interface:stdout 2017-07-17T13:47:10.133837:Input reg is register.dat\n"
       ]
      },
      {
       "output_type": "stream",
       "stream": "stderr",
       "text": [
        "INFO:interface:stdout 2017-07-17T13:47:10.133837:WARNING: the voxel resolution in the source volume (3,3,3) differs \n"
       ]
      },
      {
       "output_type": "stream",
       "stream": "stderr",
       "text": [
        "INFO:interface:stdout 2017-07-17T13:47:10.133837:         from that listed in the registration file (1,1,1)\n"
       ]
      },
      {
       "output_type": "stream",
       "stream": "stderr",
       "text": [
        "INFO:interface:stdout 2017-07-17T13:47:10.133837:-------- original matrix -----------\n"
       ]
      },
      {
       "output_type": "stream",
       "stream": "stderr",
       "text": [
        "INFO:interface:stdout 2017-07-17T13:47:10.133837: 0.99753  -0.00732   0.01760   0.95709;\n"
       ]
      },
      {
       "output_type": "stream",
       "stream": "stderr",
       "text": [
        "INFO:interface:stdout 2017-07-17T13:47:10.133837:-0.01296  -0.00926   0.99706  -17.81596;\n"
       ]
      },
      {
       "output_type": "stream",
       "stream": "stderr",
       "text": [
        "INFO:interface:stdout 2017-07-17T13:47:10.133837:-0.01460  -1.00094   0.00244  -18.54964;\n"
       ]
      },
      {
       "output_type": "stream",
       "stream": "stderr",
       "text": [
        "INFO:interface:stdout 2017-07-17T13:47:10.133837: 0.00000   0.00000   0.00000   1.00000;\n"
       ]
      },
      {
       "output_type": "stream",
       "stream": "stderr",
       "text": [
        "INFO:interface:stdout 2017-07-17T13:47:12.181795:-------- original matrix -----------\n"
       ]
      },
      {
       "output_type": "stream",
       "stream": "stderr",
       "text": [
        "INFO:interface:stdout 2017-07-17T13:47:12.181795:Reading surface /afs/cbs.mpg.de/software/freesurfer/6.0.0/ubuntu-xenial-amd64/subjects/fsaverage/surf/rh.white\n"
       ]
      },
      {
       "output_type": "stream",
       "stream": "stderr",
       "text": [
        "INFO:interface:stdout 2017-07-17T13:47:12.181795:Done reading source surface\n"
       ]
      },
      {
       "output_type": "stream",
       "stream": "stderr",
       "text": [
        "INFO:interface:stdout 2017-07-17T13:47:12.181795:Reading thickness /afs/cbs.mpg.de/software/freesurfer/6.0.0/ubuntu-xenial-amd64/subjects/fsaverage/surf/rh.thickness\n"
       ]
      },
      {
       "output_type": "stream",
       "stream": "stderr",
       "text": [
        "INFO:interface:stdout 2017-07-17T13:47:12.181795:Done\n"
       ]
      },
      {
       "output_type": "stream",
       "stream": "stderr",
       "text": [
        "INFO:interface:stdout 2017-07-17T13:47:12.181795:Mapping Source Volume onto Source Subject Surface\n"
       ]
      },
      {
       "output_type": "stream",
       "stream": "stderr",
       "text": [
        "INFO:interface:stdout 2017-07-17T13:47:12.181795: 1 0 0 0.8\n"
       ]
      },
      {
       "output_type": "stream",
       "stream": "stderr",
       "text": [
        "INFO:interface:stdout 2017-07-17T13:47:12.181795:using old\n"
       ]
      },
      {
       "output_type": "stream",
       "stream": "stderr",
       "text": [
        "INFO:interface:stdout 2017-07-17T13:47:12.181795:Done mapping volume to surface\n"
       ]
      },
      {
       "output_type": "stream",
       "stream": "stderr",
       "text": [
        "INFO:interface:stdout 2017-07-17T13:47:12.181795:Number of source voxels hit = 9647\n"
       ]
      },
      {
       "output_type": "stream",
       "stream": "stderr",
       "text": [
        "INFO:interface:stdout 2017-07-17T13:47:12.181795:Writing to /data/pt_mar006/tmp/comp_01_rh.mgh\n"
       ]
      },
      {
       "output_type": "stream",
       "stream": "stderr",
       "text": [
        "INFO:interface:stdout 2017-07-17T13:47:12.181795:Dim: 163842 1 1\n"
       ]
      },
      {
       "output_type": "stream",
       "stream": "stdout",
       "text": [
        "mri_vol2surf --hemi rh --mni152reg --o /data/pt_mar006/tmp/comp_01_rh.mgh --projfrac-avg 0.000 0.800 1.000 --mov /data/pt_mar006/subjects_group/mni3_component_1.nii.gz\n"
       ]
      }
     ],
     "prompt_number": 3
    },
    {
     "cell_type": "code",
     "collapsed": false,
     "input": [
      "import nibabel as nib"
     ],
     "language": "python",
     "metadata": {},
     "outputs": [],
     "prompt_number": 5
    },
    {
     "cell_type": "code",
     "collapsed": false,
     "input": [
      "filename = '/data/pt_mar006/tmp/comp_01_lh.mgz'\n",
      "file_data = nib.load(filename).get_data()\n",
      "file_data"
     ],
     "language": "python",
     "metadata": {},
     "outputs": [
      {
       "metadata": {},
       "output_type": "pyout",
       "prompt_number": 8,
       "text": [
        "array([[[-2.23684645]],\n",
        "\n",
        "       [[-1.17702115]],\n",
        "\n",
        "       [[ 0.        ]],\n",
        "\n",
        "       ..., \n",
        "       [[-0.33616489]],\n",
        "\n",
        "       [[-0.33616489]],\n",
        "\n",
        "       [[-0.33616489]]], dtype=float32)"
       ]
      }
     ],
     "prompt_number": 8
    },
    {
     "cell_type": "code",
     "collapsed": false,
     "input": [
      "file_data.shape"
     ],
     "language": "python",
     "metadata": {},
     "outputs": [
      {
       "metadata": {},
       "output_type": "pyout",
       "prompt_number": 9,
       "text": [
        "(163842, 1, 1)"
       ]
      }
     ],
     "prompt_number": 9
    },
    {
     "cell_type": "code",
     "collapsed": false,
     "input": [
      "type(file_data)"
     ],
     "language": "python",
     "metadata": {},
     "outputs": [
      {
       "metadata": {},
       "output_type": "pyout",
       "prompt_number": 10,
       "text": [
        "numpy.ndarray"
       ]
      }
     ],
     "prompt_number": 10
    },
    {
     "cell_type": "code",
     "collapsed": false,
     "input": [
      "fname = '/data/pt_mar006/tmp/comp_01_lh_sm05.mgz'\n",
      "f_data = nib.load(fname).get_data()\n",
      "f_data"
     ],
     "language": "python",
     "metadata": {},
     "outputs": [
      {
       "metadata": {},
       "output_type": "pyout",
       "prompt_number": 12,
       "text": [
        "array([[[-1.4485451 ]],\n",
        "\n",
        "       [[-0.94048899]],\n",
        "\n",
        "       [[-0.27052742]],\n",
        "\n",
        "       ..., \n",
        "       [[ 0.        ]],\n",
        "\n",
        "       [[ 0.        ]],\n",
        "\n",
        "       [[ 0.        ]]], dtype=float32)"
       ]
      }
     ],
     "prompt_number": 12
    },
    {
     "cell_type": "code",
     "collapsed": false,
     "input": [
      "f_data.shape"
     ],
     "language": "python",
     "metadata": {},
     "outputs": [
      {
       "metadata": {},
       "output_type": "pyout",
       "prompt_number": 13,
       "text": [
        "(163842, 1, 1)"
       ]
      }
     ],
     "prompt_number": 13
    },
    {
     "cell_type": "code",
     "collapsed": false,
     "input": [],
     "language": "python",
     "metadata": {},
     "outputs": []
    },
    {
     "cell_type": "code",
     "collapsed": false,
     "input": [],
     "language": "python",
     "metadata": {},
     "outputs": [],
     "prompt_number": 7
    },
    {
     "cell_type": "code",
     "collapsed": false,
     "input": [
      "import nilearn\n",
      "from nilearn import plotting\n",
      "\n",
      "print nilearn.__version__\n",
      "\n",
      "from nilearn import datasets\n",
      "destrieux_atlas = datasets.fetch_atlas_surf_destrieux()\n",
      "parcellation    = destrieux_atlas['map_left']\n",
      "fsaverage       = datasets.fetch_surf_fsaverage5()\n",
      "\n",
      "print fsaverage['pial_left']\n",
      "\n",
      "%matplotlib inline\n",
      "\n",
      "plotting.plot_surf_roi(fsaverage['pial_left'], roi_map=parcellation,\n",
      "                       hemi='left', view='lateral',\n",
      "                       bg_map=fsaverage['sulc_left'], bg_on_data=True,\n",
      "                       darkness=.5, cmap='gist_ncar')\n"
     ],
     "language": "python",
     "metadata": {},
     "outputs": [
      {
       "output_type": "stream",
       "stream": "stdout",
       "text": [
        "0.3.0\n",
        "/home/raid/bayrak/nilearn_data/fsaverage5/pial.left.gii\n"
       ]
      },
      {
       "metadata": {},
       "output_type": "pyout",
       "png": "[encoded data removed]",
       "prompt_number": 18,
       "text": [
        "<matplotlib.figure.Figure at 0x7f96a2437210>"
       ]
      },
      {
       "metadata": {},
       "output_type": "display_data",
       "png": "[encoded data removed]",
       "text": [
        "<matplotlib.figure.Figure at 0x7f96a2437210>"
       ]
      }
     ],
     "prompt_number": 18
    },
    {
     "cell_type": "code",
     "collapsed": false,
     "input": [
      "\n",
      "fsaverage_gifti = '/home/raid/bayrak/nilearn_data/fsaverage5/pial.left.gii'\n",
      "\n",
      "\n",
      "coords = nib.gifti.read(fsaverage_gifti).getArraysFromIntent(nib.nifti1.intent_codes['NIFTI_INTENT_POINTSET'])[0].data\n",
      "faces  = nib.gifti.read(fsaverage_gifti).getArraysFromIntent(nib.nifti1.intent_codes['NIFTI_INTENT_TRIANGLE'])[0].data\n",
      "\n",
      "\n",
      "plotting.plot_surf_roi([coords, faces], roi_map=parcellation,\n",
      "                       hemi='left', view='lateral',\n",
      "                       bg_map=fsaverage['sulc_left'], bg_on_data=True,\n",
      "                       darkness=.5, cmap='gist_ncar')"
     ],
     "language": "python",
     "metadata": {},
     "outputs": [
      {
       "metadata": {},
       "output_type": "pyout",
       "png": "[encoded data removed]",
       "prompt_number": 28,
       "text": [
        "<matplotlib.figure.Figure at 0x7f9601c14950>"
       ]
      },
      {
       "metadata": {},
       "output_type": "display_data",
       "png": "[encoded data removed]",
       "text": [
        "<matplotlib.figure.Figure at 0x7f9601c14950>"
       ]
      }
     ],
     "prompt_number": 28
    },
    {
     "cell_type": "code",
     "collapsed": false,
     "input": [
      "plotting.plot_surf(surf_mesh=[coords, faces], surf_map=None)"
     ],
     "language": "python",
     "metadata": {},
     "outputs": [
      {
       "metadata": {},
       "output_type": "pyout",
       "png": "[encoded data removed]",
       "prompt_number": 29,
       "text": [
        "<matplotlib.figure.Figure at 0x7f96a05293d0>"
       ]
      },
      {
       "metadata": {},
       "output_type": "display_data",
       "png": "[encoded data removed]",
       "text": [
        "<matplotlib.figure.Figure at 0x7f96a05293d0>"
       ]
      }
     ],
     "prompt_number": 29
    },
    {
     "cell_type": "code",
     "collapsed": false,
     "input": [
      "import nibabel as nb\n",
      "import numpy as np\n",
      "\n",
      "# function to load mesh geometry\n",
      "def load_mesh_geometry(surf_mesh):\n",
      "    # if input is a filename, try to load it with nibabel\n",
      "    if isinstance(surf_mesh, basestring):\n",
      "        if (surf_mesh.endswith('orig') or surf_mesh.endswith('pial') or\n",
      "                surf_mesh.endswith('white') or surf_mesh.endswith('sphere') or\n",
      "                surf_mesh.endswith('inflated')):\n",
      "            coords, faces = nb.freesurfer.io.read_geometry(surf_mesh)\n",
      "        elif surf_mesh.endswith('gii'):\n",
      "            coords, faces = nb.gifti.read(surf_mesh).getArraysFromIntent(nb.nifti1.intent_codes['NIFTI_INTENT_POINTSET'])[0].data, \\\n",
      "                            nb.gifti.read(surf_mesh).getArraysFromIntent(nb.nifti1.intent_codes['NIFTI_INTENT_TRIANGLE'])[0].data\n",
      "        elif surf_mesh.endswith('vtk'):\n",
      "            coords, faces, _ = read_vtk(surf_mesh)\n",
      "        elif surf_mesh.endswith('ply'):\n",
      "            coords, faces = read_ply(surf_mesh)\n",
      "        elif surf_mesh.endswith('obj'):\n",
      "            coords, faces = read_obj(surf_mesh)\n",
      "        elif isinstance(surf_mesh, dict):\n",
      "            if ('faces' in surf_mesh and 'coords' in surf_mesh):\n",
      "                coords, faces = surf_mesh['coords'], surf_mesh['faces']\n",
      "            else:\n",
      "                raise ValueError('If surf_mesh is given as a dictionary it must '\n",
      "                                 'contain items with keys \"coords\" and \"faces\"')\n",
      "        else:\n",
      "            raise ValueError('surf_mesh must be a either filename or a dictionary '\n",
      "                             'containing items with keys \"coords\" and \"faces\"')\n",
      "    return {'coords':coords,'faces':faces}\n"
     ],
     "language": "python",
     "metadata": {},
     "outputs": [],
     "prompt_number": 82
    },
    {
     "cell_type": "code",
     "collapsed": false,
     "input": [
      "bla_gifti = '/data/pt_mar006/tmp/comp_01_lh.gii'\n",
      "\n",
      "\n",
      "nib.gifti.read(bla_gifti).getArraysFromIntent(nib.nifti1.intent_codes['NIFTI_INTENT_POINTSET'])[0].data\n",
      "\n"
     ],
     "language": "python",
     "metadata": {},
     "outputs": [
      {
       "ename": "IndexError",
       "evalue": "list index out of range",
       "output_type": "pyerr",
       "traceback": [
        "\u001b[0;31m---------------------------------------------------------------------------\u001b[0m\n\u001b[0;31mIndexError\u001b[0m                                Traceback (most recent call last)",
        "\u001b[0;32m<ipython-input-40-8bb6a9186dd5>\u001b[0m in \u001b[0;36m<module>\u001b[0;34m()\u001b[0m\n\u001b[1;32m      2\u001b[0m \u001b[0;34m\u001b[0m\u001b[0m\n\u001b[1;32m      3\u001b[0m \u001b[0;34m\u001b[0m\u001b[0m\n\u001b[0;32m----> 4\u001b[0;31m \u001b[0mnib\u001b[0m\u001b[0;34m.\u001b[0m\u001b[0mgifti\u001b[0m\u001b[0;34m.\u001b[0m\u001b[0mread\u001b[0m\u001b[0;34m(\u001b[0m\u001b[0mbla_gifti\u001b[0m\u001b[0;34m)\u001b[0m\u001b[0;34m.\u001b[0m\u001b[0mgetArraysFromIntent\u001b[0m\u001b[0;34m(\u001b[0m\u001b[0mnib\u001b[0m\u001b[0;34m.\u001b[0m\u001b[0mnifti1\u001b[0m\u001b[0;34m.\u001b[0m\u001b[0mintent_codes\u001b[0m\u001b[0;34m[\u001b[0m\u001b[0;34m'NIFTI_INTENT_POINTSET'\u001b[0m\u001b[0;34m]\u001b[0m\u001b[0;34m)\u001b[0m\u001b[0;34m[\u001b[0m\u001b[0;36m0\u001b[0m\u001b[0;34m]\u001b[0m\u001b[0;34m.\u001b[0m\u001b[0mdata\u001b[0m\u001b[0;34m\u001b[0m\u001b[0m\n\u001b[0m\u001b[1;32m      5\u001b[0m \u001b[0;34m\u001b[0m\u001b[0m\n",
        "\u001b[0;31mIndexError\u001b[0m: list index out of range"
       ]
      }
     ],
     "prompt_number": 40
    },
    {
     "cell_type": "code",
     "collapsed": false,
     "input": [
      "nib.freesurfer.io.read_geometry('/data/pt_mar006/tmp/comp_01_lh.mgz')"
     ],
     "language": "python",
     "metadata": {},
     "outputs": [
      {
       "ename": "ValueError",
       "evalue": "File does not appear to be a Freesurfer surface",
       "output_type": "pyerr",
       "traceback": [
        "\u001b[0;31m---------------------------------------------------------------------------\u001b[0m\n\u001b[0;31mValueError\u001b[0m                                Traceback (most recent call last)",
        "\u001b[0;32m<ipython-input-43-e3db34192a3b>\u001b[0m in \u001b[0;36m<module>\u001b[0;34m()\u001b[0m\n\u001b[0;32m----> 1\u001b[0;31m \u001b[0mnib\u001b[0m\u001b[0;34m.\u001b[0m\u001b[0mfreesurfer\u001b[0m\u001b[0;34m.\u001b[0m\u001b[0mio\u001b[0m\u001b[0;34m.\u001b[0m\u001b[0mread_geometry\u001b[0m\u001b[0;34m(\u001b[0m\u001b[0;34m'/data/pt_mar006/tmp/comp_01_lh.mgz'\u001b[0m\u001b[0;34m)\u001b[0m\u001b[0;34m\u001b[0m\u001b[0m\n\u001b[0m",
        "\u001b[0;32m/home/raid/bayrak/usr16/lib/python2.7/site-packages/nibabel/freesurfer/io.pyc\u001b[0m in \u001b[0;36mread_geometry\u001b[0;34m(filepath, read_metadata, read_stamp)\u001b[0m\n\u001b[1;32m    155\u001b[0m                 \u001b[0mvolume_info\u001b[0m \u001b[0;34m=\u001b[0m \u001b[0m_read_volume_info\u001b[0m\u001b[0;34m(\u001b[0m\u001b[0mfobj\u001b[0m\u001b[0;34m)\u001b[0m\u001b[0;34m\u001b[0m\u001b[0m\n\u001b[1;32m    156\u001b[0m         \u001b[0;32melse\u001b[0m\u001b[0;34m:\u001b[0m\u001b[0;34m\u001b[0m\u001b[0m\n\u001b[0;32m--> 157\u001b[0;31m             \u001b[0;32mraise\u001b[0m \u001b[0mValueError\u001b[0m\u001b[0;34m(\u001b[0m\u001b[0;34m\"File does not appear to be a Freesurfer surface\"\u001b[0m\u001b[0;34m)\u001b[0m\u001b[0;34m\u001b[0m\u001b[0m\n\u001b[0m\u001b[1;32m    158\u001b[0m \u001b[0;34m\u001b[0m\u001b[0m\n\u001b[1;32m    159\u001b[0m     \u001b[0mcoords\u001b[0m \u001b[0;34m=\u001b[0m \u001b[0mcoords\u001b[0m\u001b[0;34m.\u001b[0m\u001b[0mastype\u001b[0m\u001b[0;34m(\u001b[0m\u001b[0mnp\u001b[0m\u001b[0;34m.\u001b[0m\u001b[0mfloat\u001b[0m\u001b[0;34m)\u001b[0m  \u001b[0;31m# XXX: due to mayavi bug on mac 32bits\u001b[0m\u001b[0;34m\u001b[0m\u001b[0m\n",
        "\u001b[0;31mValueError\u001b[0m: File does not appear to be a Freesurfer surface"
       ]
      }
     ],
     "prompt_number": 43
    },
    {
     "cell_type": "code",
     "collapsed": false,
     "input": [
      "ll $bla"
     ],
     "language": "python",
     "metadata": {},
     "outputs": [
      {
       "output_type": "stream",
       "stream": "stdout",
       "text": [
        "-rw-rw---- 1 bayrak 749471 Jul 18 11:21 \u001b[0m\u001b[0m/data/pt_mar006/tmp/comp_01_lh_sm05.gii\u001b[0m\r\n"
       ]
      }
     ],
     "prompt_number": 31
    },
    {
     "cell_type": "code",
     "collapsed": false,
     "input": [
      "\n",
      "import numpy as np\n",
      "import nibabel as nib # git clone --branch enh/cifti2 https://github.com/satra/nibabel.git\n",
      "from sklearn.metrics import pairwise_distances\n",
      "\n",
      "# Load embedding results\n",
      "emb = np.load('/data/pt_mar006/subjects_group/embedding_dense_emb.npy')"
     ],
     "language": "python",
     "metadata": {},
     "outputs": [],
     "prompt_number": 18
    },
    {
     "cell_type": "code",
     "collapsed": false,
     "input": [
      "len(emb)"
     ],
     "language": "python",
     "metadata": {},
     "outputs": [
      {
       "metadata": {},
       "output_type": "pyout",
       "prompt_number": 21,
       "text": [
        "33327"
       ]
      }
     ],
     "prompt_number": 21
    },
    {
     "cell_type": "code",
     "collapsed": false,
     "input": [
      "emb.shape[1]"
     ],
     "language": "python",
     "metadata": {},
     "outputs": [
      {
       "metadata": {},
       "output_type": "pyout",
       "prompt_number": 22,
       "text": [
        "9"
       ]
      }
     ],
     "prompt_number": 22
    }
   ],
   "metadata": {}
  }
 ]
}