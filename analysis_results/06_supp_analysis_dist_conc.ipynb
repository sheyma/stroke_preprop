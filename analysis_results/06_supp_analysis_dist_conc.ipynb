{
 "cells": [
  {
   "cell_type": "markdown",
   "metadata": {},
   "source": [
    "# control analysis for fixing the gray matter (GM) template across stroke patients (prior to lesion exclusion)"
   ]
  },
  {
   "cell_type": "code",
   "execution_count": 2,
   "metadata": {},
   "outputs": [],
   "source": [
    "import os, sys, csv\n",
    "from nilearn import masking\n",
    "import nibabel as nb\n",
    "import matplotlib as mpl\n",
    "import matplotlib.pyplot as plt\n",
    "import seaborn as sns\n",
    "import pandas as pd\n",
    "from scipy import stats\n",
    "import numpy as np\n",
    "import pandas as pd\n",
    "import multiprocessing\n",
    "import itertools\n",
    "import os, sys\n",
    "from nipype.interfaces.fsl import MultiImageMaths\n",
    "from nipype.interfaces.fsl.maths import MathsCommand\n",
    "from nibabel.affines import apply_affine\n",
    "import warnings\n",
    "warnings.filterwarnings('ignore')\n",
    "%matplotlib inline"
   ]
  },
  {
   "cell_type": "markdown",
   "metadata": {},
   "source": [
    "# get a common EPI mask across stroke patients  "
   ]
  },
  {
   "cell_type": "code",
   "execution_count": 3,
   "metadata": {},
   "outputs": [
    {
     "data": {
      "text/plain": [
       "28"
      ]
     },
     "execution_count": 3,
     "metadata": {},
     "output_type": "execute_result"
    }
   ],
   "source": [
    "fname = '/data/pt_mar006/documents/all_sd_after_qc_nohistory.txt'\n",
    "with open(fname) as f:\n",
    "    content = f.readlines()\n",
    "sbj_list = [x.strip('\\n') for x in content]\n",
    "len(sbj_list)"
   ]
  },
  {
   "cell_type": "code",
   "execution_count": 4,
   "metadata": {},
   "outputs": [],
   "source": [
    "rest_list = []\n",
    "rest_str  = []\n",
    "\n",
    "i = 0\n",
    "for sbj in sbj_list:\n",
    "    \n",
    "    rest_msk = os.path.join('/data/pt_mar006/masks_Smadar_2/patients_rest_intra_masks/',\n",
    "                            sbj + '_rest_intra_mask.nii.gz')\n",
    "    \n",
    "    rest_list.append(rest_msk)\n",
    "    \n",
    "    i += 1\n",
    "    if i != 1:\n",
    "        rest_str.append('-mul %s')\n",
    "\n",
    "op_string_rest = \" \".join((rest_str))\n",
    "rest_list = []\n",
    "rest_str  = []\n",
    "\n",
    "i = 0\n",
    "for sbj in sbj_list:\n",
    "    \n",
    "    rest_msk = os.path.join('/data/pt_mar006/masks_Smadar_2/patients_rest_intra_masks/',\n",
    "                            sbj + '_rest_intra_mask.nii.gz')\n",
    "    \n",
    "    rest_list.append(rest_msk)\n",
    "    \n",
    "    i += 1\n",
    "    if i != 1:\n",
    "        rest_str.append('-mul %s')\n",
    "\n",
    "op_string_rest = \" \".join((rest_str))"
   ]
  },
  {
   "cell_type": "code",
   "execution_count": 5,
   "metadata": {},
   "outputs": [
    {
     "data": {
      "text/plain": [
       "<nipype.interfaces.base.support.InterfaceResult at 0x7f2e103bf790>"
      ]
     },
     "execution_count": 5,
     "metadata": {},
     "output_type": "execute_result"
    }
   ],
   "source": [
    "maths = MultiImageMaths()\n",
    "maths.inputs.in_file       = rest_list[0]\n",
    "maths.inputs.op_string     = op_string_rest\n",
    "maths.inputs.operand_files = rest_list[1:]\n",
    "maths.inputs.out_file      = os.path.join('/data/pt_mar006/subjects_group/',\n",
    "                                          'patient_mask_of_all_intra_masks.nii.gz')\n",
    "maths.run()"
   ]
  },
  {
   "cell_type": "code",
   "execution_count": 6,
   "metadata": {},
   "outputs": [
    {
     "data": {
      "text/plain": [
       "47982"
      ]
     },
     "execution_count": 6,
     "metadata": {},
     "output_type": "execute_result"
    }
   ],
   "source": [
    "rest_name = os.path.join('/data/pt_mar006/subjects_group/',\n",
    "                         'patient_mask_of_all_intra_masks.nii.gz')\n",
    "\n",
    "rest = nb.load(rest_name).get_data()\n",
    "\n",
    "len(np.where(rest == 1)[0])"
   ]
  },
  {
   "cell_type": "code",
   "execution_count": 7,
   "metadata": {},
   "outputs": [],
   "source": [
    "gm_mask = os.path.join('/data/pt_mar006/subjects_group',\n",
    "                        'mni3_rest_gm_mask.nii.gz')"
   ]
  },
  {
   "cell_type": "code",
   "execution_count": 8,
   "metadata": {},
   "outputs": [
    {
     "data": {
      "text/plain": [
       "<nipype.interfaces.base.support.InterfaceResult at 0x7f2e103bf690>"
      ]
     },
     "execution_count": 8,
     "metadata": {},
     "output_type": "execute_result"
    }
   ],
   "source": [
    "maths = MultiImageMaths()\n",
    "maths.inputs.in_file       = rest_name\n",
    "maths.inputs.op_string     = '-mul %s'\n",
    "maths.inputs.operand_files = gm_mask\n",
    "maths.inputs.out_file      = '/data/pt_mar006/subjects_group/healty_gm_patient_intra.nii.gz'\n",
    "maths.run()\n"
   ]
  },
  {
   "cell_type": "markdown",
   "metadata": {},
   "source": [
    "# get the intersection of GM mask (obtained from healthy controls) and common EPI mask (obtained across stroke patients)\n",
    "\n"
   ]
  },
  {
   "cell_type": "code",
   "execution_count": 9,
   "metadata": {},
   "outputs": [
    {
     "data": {
      "text/plain": [
       "30134"
      ]
     },
     "execution_count": 9,
     "metadata": {},
     "output_type": "execute_result"
    }
   ],
   "source": [
    "A_name = '/data/pt_mar006/figures_control/healty_gm_patient_intra.nii.gz'\n",
    "A      = nb.load(A_name).get_data()\n",
    "len(np.where(A == 1)[0])"
   ]
  },
  {
   "cell_type": "markdown",
   "metadata": {},
   "source": [
    "## New template voxel size: 30134"
   ]
  },
  {
   "cell_type": "code",
   "execution_count": 10,
   "metadata": {},
   "outputs": [
    {
     "name": "stdout",
     "output_type": "stream",
     "text": [
      "sd02\n",
      "sd05\n",
      "sd08\n",
      "sd10\n",
      "sd13\n",
      "sd14\n",
      "sd16\n",
      "sd17\n",
      "sd21\n",
      "sd25\n",
      "sd26\n",
      "sd28\n",
      "sd31\n",
      "sd32\n",
      "sd33\n",
      "sd35\n",
      "sd36\n",
      "sd38\n",
      "sd39\n",
      "sd40\n",
      "sd42\n",
      "sd43\n",
      "sd44\n",
      "sd45\n",
      "sd46\n",
      "sd48\n",
      "sd49\n",
      "sd52\n"
     ]
    }
   ],
   "source": [
    "data_dir = '/data/pt_mar006/subjects_masks'\n",
    "\n",
    "tem_fi  = os.path.join('/data/pt_mar006/subjects_group',\n",
    "                        'mni3_rest_gm_mask_patients_intra.nii.gz')\n",
    "\n",
    "for sbj in sbj_list:\n",
    "    print sbj\n",
    "    \n",
    "    les_fi  = os.path.join(data_dir, sbj, 'lesion_mask_mni_dilated_gm.nii.gz')\n",
    "\n",
    "    maths = MultiImageMaths()\n",
    "    maths.inputs.in_file       = tem_fi\n",
    "    maths.inputs.op_string     = '-sub %s'\n",
    "    maths.inputs.operand_files = les_fi\n",
    "    maths.inputs.out_file      = os.path.join(data_dir, sbj, 'gm_mask_no_lesion_CONTROL.nii.gz')\n",
    "    maths.run()"
   ]
  },
  {
   "cell_type": "markdown",
   "metadata": {},
   "source": [
    "## run main analysis for the new gm template"
   ]
  },
  {
   "cell_type": "code",
   "execution_count": 11,
   "metadata": {},
   "outputs": [],
   "source": [
    "def distance_to_lesion(comp_file, concor_file, \n",
    "                       gm_file, les_file, model='spear'):\n",
    "\n",
    "    COMP     = np.array(nb.load(comp_file).get_data())\n",
    "    CONCOR   = np.array(nb.load(concor_file).get_data())\n",
    "    \n",
    "    gm_mask = nb.load(gm_file).get_data()\n",
    "    x    = np.where(gm_mask==1)[0]\n",
    "    y    = np.where(gm_mask==1)[1]\n",
    "    z    = np.where(gm_mask==1)[2]\n",
    "\n",
    "    COMPONENT   = COMP[x,y,z]\n",
    "    CONCORDANCE = CONCOR[x,y,z]\n",
    "\n",
    "    # where would be the lesion along the component\n",
    "    lesion = np.array(nb.load(les_file).get_data())\n",
    "    x_le   = np.where(lesion==1)[0]\n",
    "    y_le   = np.where(lesion==1)[1]\n",
    "    z_le   = np.where(lesion==1)[2]\n",
    "\n",
    "    LESION = COMP[x_le, y_le, z_le]\n",
    "\n",
    "    # define distance array\n",
    "    d = np.zeros(len(COMPONENT))\n",
    "\n",
    "    for i in range(0, len(COMPONENT)):        \n",
    "            d[i] = min(abs(COMPONENT[i] - LESION))\n",
    "    \n",
    "    if model == 'spear':\n",
    "        r, p = stats.spearmanr(d, CONCORDANCE)\n",
    "    elif model == 'pear':\n",
    "        r, p = stats.pearsonr(d, CONCORDANCE)\n",
    "        \n",
    "    return d, CONCORDANCE, COMPONENT, LESION, r"
   ]
  },
  {
   "cell_type": "code",
   "execution_count": 12,
   "metadata": {},
   "outputs": [],
   "source": [
    "def get_control(concordance_file_name, data_dir, \n",
    "               comp_file_list, subject_list, \n",
    "               comp_columns, model = 'spear'): \n",
    "    \n",
    "    rComps = pd.DataFrame(index=subject_list, \n",
    "                          columns=comp_columns)\n",
    "\n",
    "    for comp_file in comp_file_list:\n",
    "        \n",
    "            col = 'comp_' + os.path.basename(comp_file[-8:-7])\n",
    "            for subject_id in subject_list:              \n",
    "                # get filenames...\n",
    "                concor_file = os.path.join(data_dir, subject_id, \n",
    "                                           concordance_file_name)\n",
    "                gm_file     = os.path.join(data_dir, subject_id, \n",
    "                                           'gm_mask_no_lesion_CONTROL.nii.gz')\n",
    "                les_file    = os.path.join(data_dir, subject_id, \n",
    "                                           'lesion_mask_mni_gm.nii.gz')\n",
    "                # run distance_to_lesion for each subject\n",
    "                d, conc, comp, les, r = distance_to_lesion(comp_file,\n",
    "                                                           concor_file,\n",
    "                                                           gm_file,\n",
    "                                                           les_file,\n",
    "                                                           model=model)\n",
    "                rComps.ix[subject_id][col] = r    \n",
    "    return rComps"
   ]
  },
  {
   "cell_type": "code",
   "execution_count": 13,
   "metadata": {},
   "outputs": [],
   "source": [
    "data_dir  = '/data/pt_mar006/subjects_masks/'\n",
    "\n",
    "comp_file_list = ['/data/pt_mar006/components/mni3_component_1.nii.gz',\n",
    "                  '/data/pt_mar006/components/mni3_component_2.nii.gz',\n",
    "                  '/data/pt_mar006/components/mni3_component_3.nii.gz']\n",
    "\n",
    "comp_columns = ['comp_1',\n",
    "                'comp_2', \n",
    "                'comp_3']\n",
    "\n",
    "list_name    = '/data/pt_mar006/documents/all_sd_after_qc_nohistory.txt'\n",
    "with open(list_name) as f:\n",
    "    subject_list = f.read().splitlines()"
   ]
  },
  {
   "cell_type": "code",
   "execution_count": 14,
   "metadata": {},
   "outputs": [],
   "source": [
    "df_ccc_spear_CONTROL = get_control('conc_ccc.nii.gz',\n",
    "                                   data_dir,\n",
    "                                   comp_file_list,\n",
    "                                   subject_list,\n",
    "                                   comp_columns,\n",
    "                                   model = 'spear')"
   ]
  },
  {
   "cell_type": "code",
   "execution_count": 15,
   "metadata": {},
   "outputs": [
    {
     "data": {
      "text/html": [
       "<div>\n",
       "<style scoped>\n",
       "    .dataframe tbody tr th:only-of-type {\n",
       "        vertical-align: middle;\n",
       "    }\n",
       "\n",
       "    .dataframe tbody tr th {\n",
       "        vertical-align: top;\n",
       "    }\n",
       "\n",
       "    .dataframe thead th {\n",
       "        text-align: right;\n",
       "    }\n",
       "</style>\n",
       "<table border=\"1\" class=\"dataframe\">\n",
       "  <thead>\n",
       "    <tr style=\"text-align: right;\">\n",
       "      <th></th>\n",
       "      <th>comp_1</th>\n",
       "      <th>comp_2</th>\n",
       "      <th>comp_3</th>\n",
       "    </tr>\n",
       "  </thead>\n",
       "  <tbody>\n",
       "    <tr>\n",
       "      <th>sd02</th>\n",
       "      <td>0.183074</td>\n",
       "      <td>-0.271622</td>\n",
       "      <td>0.283592</td>\n",
       "    </tr>\n",
       "    <tr>\n",
       "      <th>sd05</th>\n",
       "      <td>0.149967</td>\n",
       "      <td>-0.0544516</td>\n",
       "      <td>0.294476</td>\n",
       "    </tr>\n",
       "    <tr>\n",
       "      <th>sd08</th>\n",
       "      <td>-0.0487432</td>\n",
       "      <td>0.136769</td>\n",
       "      <td>-0.139414</td>\n",
       "    </tr>\n",
       "    <tr>\n",
       "      <th>sd10</th>\n",
       "      <td>0.00451973</td>\n",
       "      <td>0.0295106</td>\n",
       "      <td>0.0980512</td>\n",
       "    </tr>\n",
       "    <tr>\n",
       "      <th>sd13</th>\n",
       "      <td>0.0585379</td>\n",
       "      <td>-0.0156504</td>\n",
       "      <td>0.182897</td>\n",
       "    </tr>\n",
       "    <tr>\n",
       "      <th>sd14</th>\n",
       "      <td>0.111872</td>\n",
       "      <td>-0.125712</td>\n",
       "      <td>0.150898</td>\n",
       "    </tr>\n",
       "    <tr>\n",
       "      <th>sd16</th>\n",
       "      <td>-0.178932</td>\n",
       "      <td>0.144238</td>\n",
       "      <td>0.120519</td>\n",
       "    </tr>\n",
       "    <tr>\n",
       "      <th>sd17</th>\n",
       "      <td>0.0908902</td>\n",
       "      <td>0.376008</td>\n",
       "      <td>0.0805194</td>\n",
       "    </tr>\n",
       "    <tr>\n",
       "      <th>sd21</th>\n",
       "      <td>0.0720432</td>\n",
       "      <td>0.100589</td>\n",
       "      <td>0.186321</td>\n",
       "    </tr>\n",
       "    <tr>\n",
       "      <th>sd25</th>\n",
       "      <td>0.121373</td>\n",
       "      <td>0.108525</td>\n",
       "      <td>0.191936</td>\n",
       "    </tr>\n",
       "    <tr>\n",
       "      <th>sd26</th>\n",
       "      <td>0.161579</td>\n",
       "      <td>-0.0625405</td>\n",
       "      <td>0.166947</td>\n",
       "    </tr>\n",
       "    <tr>\n",
       "      <th>sd28</th>\n",
       "      <td>0.339651</td>\n",
       "      <td>-0.186607</td>\n",
       "      <td>0.22641</td>\n",
       "    </tr>\n",
       "    <tr>\n",
       "      <th>sd31</th>\n",
       "      <td>0.173619</td>\n",
       "      <td>-0.112627</td>\n",
       "      <td>0.220979</td>\n",
       "    </tr>\n",
       "    <tr>\n",
       "      <th>sd32</th>\n",
       "      <td>-0.0460625</td>\n",
       "      <td>-0.297193</td>\n",
       "      <td>0.00192251</td>\n",
       "    </tr>\n",
       "    <tr>\n",
       "      <th>sd33</th>\n",
       "      <td>0.355851</td>\n",
       "      <td>0.146495</td>\n",
       "      <td>0.112457</td>\n",
       "    </tr>\n",
       "    <tr>\n",
       "      <th>sd35</th>\n",
       "      <td>0.267578</td>\n",
       "      <td>0.0273773</td>\n",
       "      <td>0.222669</td>\n",
       "    </tr>\n",
       "    <tr>\n",
       "      <th>sd36</th>\n",
       "      <td>0.278789</td>\n",
       "      <td>-0.132229</td>\n",
       "      <td>0.320926</td>\n",
       "    </tr>\n",
       "    <tr>\n",
       "      <th>sd38</th>\n",
       "      <td>0.0310515</td>\n",
       "      <td>0.120022</td>\n",
       "      <td>0.223243</td>\n",
       "    </tr>\n",
       "    <tr>\n",
       "      <th>sd39</th>\n",
       "      <td>0.0107126</td>\n",
       "      <td>0.0892019</td>\n",
       "      <td>0.158163</td>\n",
       "    </tr>\n",
       "    <tr>\n",
       "      <th>sd40</th>\n",
       "      <td>0.0226841</td>\n",
       "      <td>0.198824</td>\n",
       "      <td>0.00844786</td>\n",
       "    </tr>\n",
       "    <tr>\n",
       "      <th>sd42</th>\n",
       "      <td>-0.0919167</td>\n",
       "      <td>-0.119395</td>\n",
       "      <td>0.0804796</td>\n",
       "    </tr>\n",
       "    <tr>\n",
       "      <th>sd43</th>\n",
       "      <td>0.142921</td>\n",
       "      <td>0.00595477</td>\n",
       "      <td>0.154943</td>\n",
       "    </tr>\n",
       "    <tr>\n",
       "      <th>sd44</th>\n",
       "      <td>0.179594</td>\n",
       "      <td>-0.142249</td>\n",
       "      <td>0.23679</td>\n",
       "    </tr>\n",
       "    <tr>\n",
       "      <th>sd45</th>\n",
       "      <td>-0.237936</td>\n",
       "      <td>-0.235191</td>\n",
       "      <td>-0.239864</td>\n",
       "    </tr>\n",
       "    <tr>\n",
       "      <th>sd46</th>\n",
       "      <td>0.196881</td>\n",
       "      <td>-0.0367741</td>\n",
       "      <td>0.24628</td>\n",
       "    </tr>\n",
       "    <tr>\n",
       "      <th>sd48</th>\n",
       "      <td>0.189841</td>\n",
       "      <td>-0.18543</td>\n",
       "      <td>0.14305</td>\n",
       "    </tr>\n",
       "    <tr>\n",
       "      <th>sd49</th>\n",
       "      <td>0.0846934</td>\n",
       "      <td>0.0963139</td>\n",
       "      <td>0.0987797</td>\n",
       "    </tr>\n",
       "    <tr>\n",
       "      <th>sd52</th>\n",
       "      <td>0.247268</td>\n",
       "      <td>0.165875</td>\n",
       "      <td>0.203403</td>\n",
       "    </tr>\n",
       "  </tbody>\n",
       "</table>\n",
       "</div>"
      ],
      "text/plain": [
       "          comp_1      comp_2      comp_3\n",
       "sd02    0.183074   -0.271622    0.283592\n",
       "sd05    0.149967  -0.0544516    0.294476\n",
       "sd08  -0.0487432    0.136769   -0.139414\n",
       "sd10  0.00451973   0.0295106   0.0980512\n",
       "sd13   0.0585379  -0.0156504    0.182897\n",
       "sd14    0.111872   -0.125712    0.150898\n",
       "sd16   -0.178932    0.144238    0.120519\n",
       "sd17   0.0908902    0.376008   0.0805194\n",
       "sd21   0.0720432    0.100589    0.186321\n",
       "sd25    0.121373    0.108525    0.191936\n",
       "sd26    0.161579  -0.0625405    0.166947\n",
       "sd28    0.339651   -0.186607     0.22641\n",
       "sd31    0.173619   -0.112627    0.220979\n",
       "sd32  -0.0460625   -0.297193  0.00192251\n",
       "sd33    0.355851    0.146495    0.112457\n",
       "sd35    0.267578   0.0273773    0.222669\n",
       "sd36    0.278789   -0.132229    0.320926\n",
       "sd38   0.0310515    0.120022    0.223243\n",
       "sd39   0.0107126   0.0892019    0.158163\n",
       "sd40   0.0226841    0.198824  0.00844786\n",
       "sd42  -0.0919167   -0.119395   0.0804796\n",
       "sd43    0.142921  0.00595477    0.154943\n",
       "sd44    0.179594   -0.142249     0.23679\n",
       "sd45   -0.237936   -0.235191   -0.239864\n",
       "sd46    0.196881  -0.0367741     0.24628\n",
       "sd48    0.189841    -0.18543     0.14305\n",
       "sd49   0.0846934   0.0963139   0.0987797\n",
       "sd52    0.247268    0.165875    0.203403"
      ]
     },
     "execution_count": 15,
     "metadata": {},
     "output_type": "execute_result"
    }
   ],
   "source": [
    "df_ccc_spear_CONTROL"
   ]
  },
  {
   "cell_type": "code",
   "execution_count": 16,
   "metadata": {},
   "outputs": [],
   "source": [
    "rComps_CONTROL = df_ccc_spear_CONTROL\n",
    "\n",
    "rComps_CONTROL = rComps_CONTROL.rename(columns={\"comp_1\": \"Gradient 1\",\n",
    "                                                \"comp_2\": \"Gradient 2\",\n",
    "                                                \"comp_3\": \"Gradient 3\"})"
   ]
  },
  {
   "cell_type": "code",
   "execution_count": 21,
   "metadata": {},
   "outputs": [
    {
     "data": {
      "image/png": "[encoded data removed]",
      "text/plain": [
       "<Figure size 842.4x842.4 with 1 Axes>"
      ]
     },
     "metadata": {},
     "output_type": "display_data"
    }
   ],
   "source": [
    "fig = plot_three_gradients_wilcox(rComps_CONTROL)"
   ]
  },
  {
   "cell_type": "markdown",
   "metadata": {},
   "source": [
    "# #statistics..."
   ]
  },
  {
   "cell_type": "code",
   "execution_count": 22,
   "metadata": {},
   "outputs": [
    {
     "name": "stdout",
     "output_type": "stream",
     "text": [
      "T, P :  63.0 0.0014900543773592823\n",
      "median:  0.11662258270135176 mean:  0.10254995110897783 std:  0.14301269191006197\n",
      "max:  0.3558508991287445 min:  -0.2379357755527134\n"
     ]
    }
   ],
   "source": [
    "#The Wilcoxon signed-rank test tests the null hypothesis that two related paired samples come from \n",
    "#the same distribution. In particular, it tests whether the distribution of the differences x - y \n",
    "#is symmetric about zero. It is a non-parametric version of the paired T-test.\n",
    "\n",
    "t, p = stats.wilcoxon(np.array(df_ccc_spear_CONTROL.comp_1, dtype=float), \n",
    "                      y=None, \n",
    "                      zero_method='zsplit', \n",
    "                      correction=True)\n",
    "\n",
    "print \"T, P : \", t, p\n",
    "\n",
    "print \"median: \", df_ccc_spear_CONTROL.comp_1.median(), \n",
    "print \"mean: \", df_ccc_spear_CONTROL.comp_1.mean(), \n",
    "print \"std: \", df_ccc_spear_CONTROL.comp_1.std()\n",
    "print \"max: \", rComps_CONTROL['Gradient 1'].max(),\n",
    "print \"min: \", rComps_CONTROL['Gradient 1'].min()\n"
   ]
  },
  {
   "cell_type": "code",
   "execution_count": 23,
   "metadata": {},
   "outputs": [
    {
     "name": "stdout",
     "output_type": "stream",
     "text": [
      "T, P :  189.0 0.7585281090215424\n",
      "median:  -0.004847836809492735 mean:  -0.0082846422036198 std:  0.1608112802662758\n",
      "max:  0.376008194238075 min:  -0.29719324163350297\n"
     ]
    }
   ],
   "source": [
    "t, p = stats.wilcoxon(np.array(df_ccc_spear_CONTROL.comp_2, dtype=float), \n",
    "                      y=None, \n",
    "                      zero_method='zsplit', \n",
    "                      correction=True)\n",
    "\n",
    "print \"T, P : \", t, p\n",
    "\n",
    "print \"median: \", df_ccc_spear_CONTROL.comp_2.median(), \n",
    "print \"mean: \", df_ccc_spear_CONTROL.comp_2.mean(), \n",
    "print \"std: \", df_ccc_spear_CONTROL.comp_2.std()\n",
    "print \"max: \", rComps_CONTROL['Gradient 2'].max(),\n",
    "print \"min: \", rComps_CONTROL['Gradient 2'].min()\n"
   ]
  },
  {
   "cell_type": "code",
   "execution_count": 24,
   "metadata": {},
   "outputs": [
    {
     "name": "stdout",
     "output_type": "stream",
     "text": [
      "T, P :  33.0 0.00011350017471492636\n",
      "median:  0.16255517794460722 mean:  0.14413649936758835 std:  0.12288452334161859\n",
      "max:  0.3209256287743321 min:  -0.2398636963069745\n"
     ]
    }
   ],
   "source": [
    "t, p = stats.wilcoxon(np.array(df_ccc_spear_CONTROL.comp_3, dtype=float), \n",
    "                      y=None, \n",
    "                      zero_method='zsplit', \n",
    "                      correction=True)\n",
    "\n",
    "print \"T, P : \", t, p\n",
    "\n",
    "print \"median: \", df_ccc_spear_CONTROL.comp_3.median(), \n",
    "print \"mean: \", df_ccc_spear_CONTROL.comp_3.mean(), \n",
    "print \"std: \", df_ccc_spear_CONTROL.comp_3.std()\n",
    "print \"max: \", rComps_CONTROL['Gradient 3'].max(),\n",
    "print \"min: \", rComps_CONTROL['Gradient 3'].min()"
   ]
  },
  {
   "cell_type": "code",
   "execution_count": 18,
   "metadata": {},
   "outputs": [],
   "source": [
    "def plot_three_gradients_wilcox(rComps):\n",
    "\n",
    "    fig = plt.figure(figsize=(11.7,11.7))\n",
    "    ax1 = plt.subplot(1,1,1)\n",
    "   \n",
    "    sns.set(context=\"paper\", \n",
    "            font=\"sans-serif\", \n",
    "            font_scale=5.0,\n",
    "            style=\"whitegrid\",\n",
    "            rc={\"grid.linewidth\": 5},\n",
    "            palette='Set2'\n",
    "            )\n",
    "    \n",
    "    sns.boxplot(data=rComps, \n",
    "                linewidth = 5,\n",
    "                color='white',\n",
    "                ax=ax1)\n",
    "    \n",
    "    #plt.setp(ax1.lines, color=\".3\")\n",
    "    sns.swarmplot(data=rComps,\n",
    "                  color='k',\n",
    "                  size = 13,\n",
    "                  ax=ax1)\n",
    "    # one-tailed Wilcoxon signed-rank test \n",
    "    from scipy import stats\n",
    "    popmean=0\n",
    "    cols = ['Gradient 1',\n",
    "            'Gradient 2',\n",
    "            'Gradient 3']\n",
    "    \n",
    "    x_axis = 0.335\n",
    "    for col in cols:        \n",
    "        r    = rComps[col].median()\n",
    "        \n",
    "        t, p = stats.wilcoxon(np.array(rComps[col], dtype=float), \n",
    "                              y=None, zero_method='zsplit', \n",
    "                              correction=True)\n",
    "        # one-tailed\n",
    "        p = p\n",
    "        \n",
    "        if p < 0.05 and t > 0:\n",
    "            fig.text(x_axis, 0.815, \"*\" % (p), fontname='sans-serif', \n",
    "                     size=73, rotation=0, backgroundcolor = 'white', color = 'k',\n",
    "                     ha=\"center\", va=\"center\")\n",
    "            \n",
    "        x_axis += 0.24\n",
    "    ax1.set(ylim=(-0.405, 0.604))\n",
    "    ax1.set(ylabel='Spearman\\'s correlation coefficients')\n",
    "    fig.tight_layout()    \n",
    "    return fig"
   ]
  },
  {
   "cell_type": "code",
   "execution_count": null,
   "metadata": {},
   "outputs": [],
   "source": []
  }
 ],
 "metadata": {
  "kernelspec": {
   "display_name": "Python 2",
   "language": "python",
   "name": "python2"
  },
  "language_info": {
   "codemirror_mode": {
    "name": "ipython",
    "version": 2
   },
   "file_extension": ".py",
   "mimetype": "text/x-python",
   "name": "python",
   "nbconvert_exporter": "python",
   "pygments_lexer": "ipython2",
   "version": "2.7.15"
  }
 },
 "nbformat": 4,
 "nbformat_minor": 1
}
